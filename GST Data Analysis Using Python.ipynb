{
 "cells": [
  {
   "attachments": {},
   "cell_type": "markdown",
   "id": "1f09b4bb",
   "metadata": {},
   "source": [
    "\n",
    "# GST Data Analysis Using Python\n",
    "                             \n",
    "\n",
    "Two Different datasets:\n",
    "1. Firms: It provides a firm identifier (GSTIN) and an indicator on whether the firm has\n",
    "been found to be bogus from past inspections results.\n",
    "2. Transactions: It provides GSTINs of seller and purchaser, filing period (MMYYYY) of\n",
    "when the transaction was reported, invoice number, invoice date, quantity of\n",
    "items, rate of tax, amount of tax by type (integrated tax, central tax, state tax,\n",
    "cess).                            \n",
    "                                               "
   ]
  },
  {
   "cell_type": "markdown",
   "id": "6f7d8af7",
   "metadata": {},
   "source": [
    "# Section 1 - Data cleaning and merging"
   ]
  },
  {
   "cell_type": "markdown",
   "id": "e184a862",
   "metadata": {},
   "source": [
    "__________________________________________________________________________________________________________________"
   ]
  },
  {
   "cell_type": "markdown",
   "id": "945ed7d3",
   "metadata": {},
   "source": [
    "# 1. Import Transactions data into a pandas dataframe."
   ]
  },
  {
   "cell_type": "code",
   "execution_count": 1,
   "id": "3c4460c4",
   "metadata": {},
   "outputs": [],
   "source": [
    "# importing libraries \n",
    "import sys\n",
    "import numpy as np\n",
    "import pandas as pd\n",
    "import matplotlib.pyplot as plt\n",
    "import seaborn as sns"
   ]
  },
  {
   "cell_type": "code",
   "execution_count": 2,
   "id": "518102b3",
   "metadata": {},
   "outputs": [],
   "source": [
    "#load data\n",
    "d1=pd.read_csv(\"DATA_FIRMS.csv\")\n",
    "d2=pd.read_csv(\"DATA_TRANSACTIONS.csv\")"
   ]
  },
  {
   "cell_type": "code",
   "execution_count": 3,
   "id": "93dcfd94",
   "metadata": {},
   "outputs": [
    {
     "name": "stdout",
     "output_type": "stream",
     "text": [
      "<class 'pandas.core.frame.DataFrame'> <class 'pandas.core.frame.DataFrame'>\n"
     ]
    }
   ],
   "source": [
    "#check type of data\n",
    "print(type(d1,),type(d2))"
   ]
  },
  {
   "cell_type": "code",
   "execution_count": 4,
   "id": "927f78f7",
   "metadata": {
    "scrolled": false
   },
   "outputs": [
    {
     "name": "stdout",
     "output_type": "stream",
     "text": [
      "\n",
      "Data_firms\n"
     ]
    },
    {
     "data": {
      "text/html": [
       "<div>\n",
       "<style scoped>\n",
       "    .dataframe tbody tr th:only-of-type {\n",
       "        vertical-align: middle;\n",
       "    }\n",
       "\n",
       "    .dataframe tbody tr th {\n",
       "        vertical-align: top;\n",
       "    }\n",
       "\n",
       "    .dataframe thead th {\n",
       "        text-align: right;\n",
       "    }\n",
       "</style>\n",
       "<table border=\"1\" class=\"dataframe\">\n",
       "  <thead>\n",
       "    <tr style=\"text-align: right;\">\n",
       "      <th></th>\n",
       "      <th>GSTIN</th>\n",
       "      <th>IsBogus</th>\n",
       "    </tr>\n",
       "  </thead>\n",
       "  <tbody>\n",
       "    <tr>\n",
       "      <th>0</th>\n",
       "      <td>0010215452</td>\n",
       "      <td>0.0</td>\n",
       "    </tr>\n",
       "    <tr>\n",
       "      <th>1</th>\n",
       "      <td>0038162EB9</td>\n",
       "      <td>0.0</td>\n",
       "    </tr>\n",
       "    <tr>\n",
       "      <th>2</th>\n",
       "      <td>004F894AEC</td>\n",
       "      <td>0.0</td>\n",
       "    </tr>\n",
       "    <tr>\n",
       "      <th>3</th>\n",
       "      <td>005A8D5BC6</td>\n",
       "      <td>0.0</td>\n",
       "    </tr>\n",
       "    <tr>\n",
       "      <th>4</th>\n",
       "      <td>007011E20F</td>\n",
       "      <td>0.0</td>\n",
       "    </tr>\n",
       "  </tbody>\n",
       "</table>\n",
       "</div>"
      ],
      "text/plain": [
       "        GSTIN  IsBogus\n",
       "0  0010215452      0.0\n",
       "1  0038162EB9      0.0\n",
       "2  004F894AEC      0.0\n",
       "3  005A8D5BC6      0.0\n",
       "4  007011E20F      0.0"
      ]
     },
     "metadata": {},
     "output_type": "display_data"
    },
    {
     "name": "stdout",
     "output_type": "stream",
     "text": [
      "\n",
      "Data_Transactions\n"
     ]
    },
    {
     "data": {
      "text/html": [
       "<div>\n",
       "<style scoped>\n",
       "    .dataframe tbody tr th:only-of-type {\n",
       "        vertical-align: middle;\n",
       "    }\n",
       "\n",
       "    .dataframe tbody tr th {\n",
       "        vertical-align: top;\n",
       "    }\n",
       "\n",
       "    .dataframe thead th {\n",
       "        text-align: right;\n",
       "    }\n",
       "</style>\n",
       "<table border=\"1\" class=\"dataframe\">\n",
       "  <thead>\n",
       "    <tr style=\"text-align: right;\">\n",
       "      <th></th>\n",
       "      <th>SELLER_GSTIN</th>\n",
       "      <th>PURCHASER_GSTIN</th>\n",
       "      <th>FILING_PERIOD</th>\n",
       "      <th>INVOICE_NUM</th>\n",
       "      <th>INVOICE_DATE</th>\n",
       "      <th>QUANTITY</th>\n",
       "      <th>TAXABLE_AMOUNT</th>\n",
       "      <th>TAX_RATE</th>\n",
       "      <th>CGST</th>\n",
       "      <th>SGST</th>\n",
       "      <th>IGST</th>\n",
       "      <th>CESS</th>\n",
       "    </tr>\n",
       "  </thead>\n",
       "  <tbody>\n",
       "    <tr>\n",
       "      <th>0</th>\n",
       "      <td>80E18AC42B</td>\n",
       "      <td>325EDDD715</td>\n",
       "      <td>NaN</td>\n",
       "      <td>9140389879</td>\n",
       "      <td>2018-03-02</td>\n",
       "      <td>2</td>\n",
       "      <td>2601847.17</td>\n",
       "      <td>12</td>\n",
       "      <td>0.00</td>\n",
       "      <td>0.00</td>\n",
       "      <td>312221.66</td>\n",
       "      <td>0.0</td>\n",
       "    </tr>\n",
       "    <tr>\n",
       "      <th>1</th>\n",
       "      <td>776BBCB820</td>\n",
       "      <td>262EA86704</td>\n",
       "      <td>NaN</td>\n",
       "      <td>HR6616004285</td>\n",
       "      <td>2018-03-17</td>\n",
       "      <td>1</td>\n",
       "      <td>916689.15</td>\n",
       "      <td>18</td>\n",
       "      <td>NaN</td>\n",
       "      <td>NaN</td>\n",
       "      <td>165004.05</td>\n",
       "      <td>NaN</td>\n",
       "    </tr>\n",
       "    <tr>\n",
       "      <th>2</th>\n",
       "      <td>5A4FC8F226</td>\n",
       "      <td>AA67FDC3A6</td>\n",
       "      <td>NaN</td>\n",
       "      <td>04B045/19268</td>\n",
       "      <td>2018-03-05</td>\n",
       "      <td>1</td>\n",
       "      <td>41457.97</td>\n",
       "      <td>5</td>\n",
       "      <td>NaN</td>\n",
       "      <td>NaN</td>\n",
       "      <td>2072.90</td>\n",
       "      <td>5796.0</td>\n",
       "    </tr>\n",
       "    <tr>\n",
       "      <th>3</th>\n",
       "      <td>E7A5A47B46</td>\n",
       "      <td>37626EC80E</td>\n",
       "      <td>NaN</td>\n",
       "      <td>3150</td>\n",
       "      <td>2018-01-16</td>\n",
       "      <td>1</td>\n",
       "      <td>39873.45</td>\n",
       "      <td>28</td>\n",
       "      <td>5582.28</td>\n",
       "      <td>5582.28</td>\n",
       "      <td>NaN</td>\n",
       "      <td>0.0</td>\n",
       "    </tr>\n",
       "    <tr>\n",
       "      <th>4</th>\n",
       "      <td>6920AA6331</td>\n",
       "      <td>36DB0ABC9A</td>\n",
       "      <td>NaN</td>\n",
       "      <td>RICE-343</td>\n",
       "      <td>2018-03-10</td>\n",
       "      <td>1</td>\n",
       "      <td>771169.00</td>\n",
       "      <td>0</td>\n",
       "      <td>0.00</td>\n",
       "      <td>0.00</td>\n",
       "      <td>NaN</td>\n",
       "      <td>0.0</td>\n",
       "    </tr>\n",
       "  </tbody>\n",
       "</table>\n",
       "</div>"
      ],
      "text/plain": [
       "  SELLER_GSTIN PURCHASER_GSTIN  FILING_PERIOD   INVOICE_NUM INVOICE_DATE  \\\n",
       "0   80E18AC42B      325EDDD715            NaN    9140389879   2018-03-02   \n",
       "1   776BBCB820      262EA86704            NaN  HR6616004285   2018-03-17   \n",
       "2   5A4FC8F226      AA67FDC3A6            NaN  04B045/19268   2018-03-05   \n",
       "3   E7A5A47B46      37626EC80E            NaN          3150   2018-01-16   \n",
       "4   6920AA6331      36DB0ABC9A            NaN      RICE-343   2018-03-10   \n",
       "\n",
       "   QUANTITY  TAXABLE_AMOUNT  TAX_RATE     CGST     SGST       IGST    CESS  \n",
       "0         2      2601847.17        12     0.00     0.00  312221.66     0.0  \n",
       "1         1       916689.15        18      NaN      NaN  165004.05     NaN  \n",
       "2         1        41457.97         5      NaN      NaN    2072.90  5796.0  \n",
       "3         1        39873.45        28  5582.28  5582.28        NaN     0.0  \n",
       "4         1       771169.00         0     0.00     0.00        NaN     0.0  "
      ]
     },
     "metadata": {},
     "output_type": "display_data"
    },
    {
     "data": {
      "text/html": [
       "<div>\n",
       "<style scoped>\n",
       "    .dataframe tbody tr th:only-of-type {\n",
       "        vertical-align: middle;\n",
       "    }\n",
       "\n",
       "    .dataframe tbody tr th {\n",
       "        vertical-align: top;\n",
       "    }\n",
       "\n",
       "    .dataframe thead th {\n",
       "        text-align: right;\n",
       "    }\n",
       "</style>\n",
       "<table border=\"1\" class=\"dataframe\">\n",
       "  <thead>\n",
       "    <tr style=\"text-align: right;\">\n",
       "      <th></th>\n",
       "      <th>SELLER_GSTIN</th>\n",
       "      <th>PURCHASER_GSTIN</th>\n",
       "      <th>FILING_PERIOD</th>\n",
       "      <th>INVOICE_NUM</th>\n",
       "      <th>INVOICE_DATE</th>\n",
       "      <th>QUANTITY</th>\n",
       "      <th>TAXABLE_AMOUNT</th>\n",
       "      <th>TAX_RATE</th>\n",
       "      <th>CGST</th>\n",
       "      <th>SGST</th>\n",
       "      <th>IGST</th>\n",
       "      <th>CESS</th>\n",
       "    </tr>\n",
       "  </thead>\n",
       "  <tbody>\n",
       "    <tr>\n",
       "      <th>20095</th>\n",
       "      <td>5DA0527958</td>\n",
       "      <td>294205D6E0</td>\n",
       "      <td>32018.0</td>\n",
       "      <td>V171806235</td>\n",
       "      <td>2018-03-11</td>\n",
       "      <td>2</td>\n",
       "      <td>4643.00</td>\n",
       "      <td>18</td>\n",
       "      <td>NaN</td>\n",
       "      <td>NaN</td>\n",
       "      <td>835.74</td>\n",
       "      <td>0.0</td>\n",
       "    </tr>\n",
       "    <tr>\n",
       "      <th>20096</th>\n",
       "      <td>FAB06B8D5F</td>\n",
       "      <td>C221EEA66C</td>\n",
       "      <td>32018.0</td>\n",
       "      <td>DEL2519/17-18</td>\n",
       "      <td>2018-04-01</td>\n",
       "      <td>1801</td>\n",
       "      <td>3616.50</td>\n",
       "      <td>18</td>\n",
       "      <td>NaN</td>\n",
       "      <td>NaN</td>\n",
       "      <td>650.97</td>\n",
       "      <td>0.0</td>\n",
       "    </tr>\n",
       "    <tr>\n",
       "      <th>20097</th>\n",
       "      <td>A7215054CB</td>\n",
       "      <td>FCF98133EB</td>\n",
       "      <td>32018.0</td>\n",
       "      <td>G6943</td>\n",
       "      <td>2018-03-29</td>\n",
       "      <td>1</td>\n",
       "      <td>36800.00</td>\n",
       "      <td>18</td>\n",
       "      <td>0.00</td>\n",
       "      <td>0.00</td>\n",
       "      <td>6624.00</td>\n",
       "      <td>0.0</td>\n",
       "    </tr>\n",
       "    <tr>\n",
       "      <th>20098</th>\n",
       "      <td>1480269030</td>\n",
       "      <td>0F121D3705</td>\n",
       "      <td>32018.0</td>\n",
       "      <td>004260006951</td>\n",
       "      <td>2018-03-26</td>\n",
       "      <td>2</td>\n",
       "      <td>126725.10</td>\n",
       "      <td>28</td>\n",
       "      <td>0.00</td>\n",
       "      <td>0.00</td>\n",
       "      <td>35483.03</td>\n",
       "      <td>0.0</td>\n",
       "    </tr>\n",
       "    <tr>\n",
       "      <th>20099</th>\n",
       "      <td>86DFEB0A3F</td>\n",
       "      <td>3CFC218C41</td>\n",
       "      <td>32018.0</td>\n",
       "      <td>PB1100054841</td>\n",
       "      <td>2018-03-26</td>\n",
       "      <td>501</td>\n",
       "      <td>682802.88</td>\n",
       "      <td>5</td>\n",
       "      <td>17070.07</td>\n",
       "      <td>17070.07</td>\n",
       "      <td>NaN</td>\n",
       "      <td>0.0</td>\n",
       "    </tr>\n",
       "  </tbody>\n",
       "</table>\n",
       "</div>"
      ],
      "text/plain": [
       "      SELLER_GSTIN PURCHASER_GSTIN  FILING_PERIOD    INVOICE_NUM INVOICE_DATE  \\\n",
       "20095   5DA0527958      294205D6E0        32018.0     V171806235   2018-03-11   \n",
       "20096   FAB06B8D5F      C221EEA66C        32018.0  DEL2519/17-18   2018-04-01   \n",
       "20097   A7215054CB      FCF98133EB        32018.0          G6943   2018-03-29   \n",
       "20098   1480269030      0F121D3705        32018.0   004260006951   2018-03-26   \n",
       "20099   86DFEB0A3F      3CFC218C41        32018.0   PB1100054841   2018-03-26   \n",
       "\n",
       "       QUANTITY  TAXABLE_AMOUNT  TAX_RATE      CGST      SGST      IGST  CESS  \n",
       "20095         2         4643.00        18       NaN       NaN    835.74   0.0  \n",
       "20096      1801         3616.50        18       NaN       NaN    650.97   0.0  \n",
       "20097         1        36800.00        18      0.00      0.00   6624.00   0.0  \n",
       "20098         2       126725.10        28      0.00      0.00  35483.03   0.0  \n",
       "20099       501       682802.88         5  17070.07  17070.07       NaN   0.0  "
      ]
     },
     "metadata": {},
     "output_type": "display_data"
    },
    {
     "data": {
      "text/plain": [
       "0            NaN\n",
       "1            NaN\n",
       "2            NaN\n",
       "3            NaN\n",
       "4            NaN\n",
       "          ...   \n",
       "20095    32018.0\n",
       "20096    32018.0\n",
       "20097    32018.0\n",
       "20098    32018.0\n",
       "20099    32018.0\n",
       "Name: FILING_PERIOD, Length: 20100, dtype: float64"
      ]
     },
     "metadata": {},
     "output_type": "display_data"
    }
   ],
   "source": [
    "#View DataFrames\n",
    "print(\"\\nData_firms\")\n",
    "display(d1.head())\n",
    "print(\"\\nData_Transactions\")\n",
    "display(d2.head())\n",
    "display(d2.tail())\n",
    "display(d2['FILING_PERIOD'])"
   ]
  },
  {
   "cell_type": "code",
   "execution_count": 5,
   "id": "3e6a364b",
   "metadata": {},
   "outputs": [
    {
     "name": "stdout",
     "output_type": "stream",
     "text": [
      "Data_firms\n"
     ]
    },
    {
     "data": {
      "text/plain": [
       "(3131, 2)"
      ]
     },
     "metadata": {},
     "output_type": "display_data"
    },
    {
     "name": "stdout",
     "output_type": "stream",
     "text": [
      "Data_Transactions\n"
     ]
    },
    {
     "data": {
      "text/plain": [
       "(20100, 12)"
      ]
     },
     "metadata": {},
     "output_type": "display_data"
    }
   ],
   "source": [
    "#View shape of DataFrames\n",
    "print(\"Data_firms\")\n",
    "display(d1.shape)\n",
    "print(\"Data_Transactions\")\n",
    "display(d2.shape)"
   ]
  },
  {
   "cell_type": "code",
   "execution_count": 6,
   "id": "117f6e48",
   "metadata": {
    "scrolled": true
   },
   "outputs": [
    {
     "name": "stdout",
     "output_type": "stream",
     "text": [
      "Data_firms\n"
     ]
    },
    {
     "data": {
      "text/html": [
       "<div>\n",
       "<style scoped>\n",
       "    .dataframe tbody tr th:only-of-type {\n",
       "        vertical-align: middle;\n",
       "    }\n",
       "\n",
       "    .dataframe tbody tr th {\n",
       "        vertical-align: top;\n",
       "    }\n",
       "\n",
       "    .dataframe thead th {\n",
       "        text-align: right;\n",
       "    }\n",
       "</style>\n",
       "<table border=\"1\" class=\"dataframe\">\n",
       "  <thead>\n",
       "    <tr style=\"text-align: right;\">\n",
       "      <th></th>\n",
       "      <th>IsBogus</th>\n",
       "    </tr>\n",
       "  </thead>\n",
       "  <tbody>\n",
       "    <tr>\n",
       "      <th>count</th>\n",
       "      <td>3123.000000</td>\n",
       "    </tr>\n",
       "    <tr>\n",
       "      <th>mean</th>\n",
       "      <td>0.097663</td>\n",
       "    </tr>\n",
       "    <tr>\n",
       "      <th>std</th>\n",
       "      <td>0.296905</td>\n",
       "    </tr>\n",
       "    <tr>\n",
       "      <th>min</th>\n",
       "      <td>0.000000</td>\n",
       "    </tr>\n",
       "    <tr>\n",
       "      <th>25%</th>\n",
       "      <td>0.000000</td>\n",
       "    </tr>\n",
       "    <tr>\n",
       "      <th>50%</th>\n",
       "      <td>0.000000</td>\n",
       "    </tr>\n",
       "    <tr>\n",
       "      <th>75%</th>\n",
       "      <td>0.000000</td>\n",
       "    </tr>\n",
       "    <tr>\n",
       "      <th>max</th>\n",
       "      <td>1.000000</td>\n",
       "    </tr>\n",
       "  </tbody>\n",
       "</table>\n",
       "</div>"
      ],
      "text/plain": [
       "           IsBogus\n",
       "count  3123.000000\n",
       "mean      0.097663\n",
       "std       0.296905\n",
       "min       0.000000\n",
       "25%       0.000000\n",
       "50%       0.000000\n",
       "75%       0.000000\n",
       "max       1.000000"
      ]
     },
     "metadata": {},
     "output_type": "display_data"
    },
    {
     "name": "stdout",
     "output_type": "stream",
     "text": [
      "_________________________________________________________________________\n",
      "Data_Transactions\n"
     ]
    },
    {
     "data": {
      "text/html": [
       "<div>\n",
       "<style scoped>\n",
       "    .dataframe tbody tr th:only-of-type {\n",
       "        vertical-align: middle;\n",
       "    }\n",
       "\n",
       "    .dataframe tbody tr th {\n",
       "        vertical-align: top;\n",
       "    }\n",
       "\n",
       "    .dataframe thead th {\n",
       "        text-align: right;\n",
       "    }\n",
       "</style>\n",
       "<table border=\"1\" class=\"dataframe\">\n",
       "  <thead>\n",
       "    <tr style=\"text-align: right;\">\n",
       "      <th></th>\n",
       "      <th>FILING_PERIOD</th>\n",
       "      <th>QUANTITY</th>\n",
       "      <th>TAXABLE_AMOUNT</th>\n",
       "      <th>TAX_RATE</th>\n",
       "      <th>CGST</th>\n",
       "      <th>SGST</th>\n",
       "      <th>IGST</th>\n",
       "      <th>CESS</th>\n",
       "    </tr>\n",
       "  </thead>\n",
       "  <tbody>\n",
       "    <tr>\n",
       "      <th>count</th>\n",
       "      <td>20085.000000</td>\n",
       "      <td>20100.000000</td>\n",
       "      <td>2.010000e+04</td>\n",
       "      <td>20100.000000</td>\n",
       "      <td>1.321400e+04</td>\n",
       "      <td>1.321400e+04</td>\n",
       "      <td>1.304000e+04</td>\n",
       "      <td>1.599700e+04</td>\n",
       "    </tr>\n",
       "    <tr>\n",
       "      <th>mean</th>\n",
       "      <td>20130.521782</td>\n",
       "      <td>496.184279</td>\n",
       "      <td>5.253510e+05</td>\n",
       "      <td>16.797164</td>\n",
       "      <td>6.447210e+03</td>\n",
       "      <td>6.447210e+03</td>\n",
       "      <td>6.848852e+04</td>\n",
       "      <td>3.629857e+03</td>\n",
       "    </tr>\n",
       "    <tr>\n",
       "      <th>std</th>\n",
       "      <td>8336.987616</td>\n",
       "      <td>812.146543</td>\n",
       "      <td>2.362902e+06</td>\n",
       "      <td>7.708396</td>\n",
       "      <td>7.205206e+04</td>\n",
       "      <td>7.205206e+04</td>\n",
       "      <td>2.955450e+05</td>\n",
       "      <td>8.930419e+04</td>\n",
       "    </tr>\n",
       "    <tr>\n",
       "      <th>min</th>\n",
       "      <td>12018.000000</td>\n",
       "      <td>0.000000</td>\n",
       "      <td>0.000000e+00</td>\n",
       "      <td>0.000000</td>\n",
       "      <td>0.000000e+00</td>\n",
       "      <td>0.000000e+00</td>\n",
       "      <td>0.000000e+00</td>\n",
       "      <td>0.000000e+00</td>\n",
       "    </tr>\n",
       "    <tr>\n",
       "      <th>25%</th>\n",
       "      <td>12018.000000</td>\n",
       "      <td>1.000000</td>\n",
       "      <td>5.093602e+03</td>\n",
       "      <td>12.000000</td>\n",
       "      <td>0.000000e+00</td>\n",
       "      <td>0.000000e+00</td>\n",
       "      <td>1.061880e+03</td>\n",
       "      <td>0.000000e+00</td>\n",
       "    </tr>\n",
       "    <tr>\n",
       "      <th>50%</th>\n",
       "      <td>22018.000000</td>\n",
       "      <td>1.000000</td>\n",
       "      <td>4.527900e+04</td>\n",
       "      <td>18.000000</td>\n",
       "      <td>1.525500e+01</td>\n",
       "      <td>1.525500e+01</td>\n",
       "      <td>1.341817e+04</td>\n",
       "      <td>0.000000e+00</td>\n",
       "    </tr>\n",
       "    <tr>\n",
       "      <th>75%</th>\n",
       "      <td>32018.000000</td>\n",
       "      <td>1201.000000</td>\n",
       "      <td>2.690400e+05</td>\n",
       "      <td>18.000000</td>\n",
       "      <td>8.709700e+02</td>\n",
       "      <td>8.709700e+02</td>\n",
       "      <td>4.568367e+04</td>\n",
       "      <td>0.000000e+00</td>\n",
       "    </tr>\n",
       "    <tr>\n",
       "      <th>max</th>\n",
       "      <td>32018.000000</td>\n",
       "      <td>2801.000000</td>\n",
       "      <td>1.295597e+08</td>\n",
       "      <td>28.000000</td>\n",
       "      <td>4.866519e+06</td>\n",
       "      <td>4.866519e+06</td>\n",
       "      <td>2.332075e+07</td>\n",
       "      <td>4.750432e+06</td>\n",
       "    </tr>\n",
       "  </tbody>\n",
       "</table>\n",
       "</div>"
      ],
      "text/plain": [
       "       FILING_PERIOD      QUANTITY  TAXABLE_AMOUNT      TAX_RATE  \\\n",
       "count   20085.000000  20100.000000    2.010000e+04  20100.000000   \n",
       "mean    20130.521782    496.184279    5.253510e+05     16.797164   \n",
       "std      8336.987616    812.146543    2.362902e+06      7.708396   \n",
       "min     12018.000000      0.000000    0.000000e+00      0.000000   \n",
       "25%     12018.000000      1.000000    5.093602e+03     12.000000   \n",
       "50%     22018.000000      1.000000    4.527900e+04     18.000000   \n",
       "75%     32018.000000   1201.000000    2.690400e+05     18.000000   \n",
       "max     32018.000000   2801.000000    1.295597e+08     28.000000   \n",
       "\n",
       "               CGST          SGST          IGST          CESS  \n",
       "count  1.321400e+04  1.321400e+04  1.304000e+04  1.599700e+04  \n",
       "mean   6.447210e+03  6.447210e+03  6.848852e+04  3.629857e+03  \n",
       "std    7.205206e+04  7.205206e+04  2.955450e+05  8.930419e+04  \n",
       "min    0.000000e+00  0.000000e+00  0.000000e+00  0.000000e+00  \n",
       "25%    0.000000e+00  0.000000e+00  1.061880e+03  0.000000e+00  \n",
       "50%    1.525500e+01  1.525500e+01  1.341817e+04  0.000000e+00  \n",
       "75%    8.709700e+02  8.709700e+02  4.568367e+04  0.000000e+00  \n",
       "max    4.866519e+06  4.866519e+06  2.332075e+07  4.750432e+06  "
      ]
     },
     "metadata": {},
     "output_type": "display_data"
    }
   ],
   "source": [
    "#Describe the DataFrames\n",
    "print(\"Data_firms\")\n",
    "display(d1.describe())\n",
    "print(\"_________________________________________________________________________\")\n",
    "print(\"Data_Transactions\")\n",
    "display(d2.describe())"
   ]
  },
  {
   "cell_type": "markdown",
   "id": "2a4104bc",
   "metadata": {},
   "source": [
    "# 2. Data cleaning and standardization: Are there any data quality issues with the different variables in the data-set (e.g. missing values)?\n"
   ]
  },
  {
   "cell_type": "code",
   "execution_count": 7,
   "id": "1c13ce37",
   "metadata": {},
   "outputs": [
    {
     "data": {
      "text/plain": [
       "8"
      ]
     },
     "execution_count": 7,
     "metadata": {},
     "output_type": "execute_result"
    }
   ],
   "source": [
    "#Check Na values in d1\n",
    "d1.isnull().sum().sum()"
   ]
  },
  {
   "cell_type": "code",
   "execution_count": 8,
   "id": "2af75628",
   "metadata": {},
   "outputs": [
    {
     "name": "stdout",
     "output_type": "stream",
     "text": [
      "GSTIN      0\n",
      "IsBogus    8\n",
      "dtype: int64\n"
     ]
    }
   ],
   "source": [
    "#Calculate the Total no.of Na's\n",
    "print(d1.isnull().sum())"
   ]
  },
  {
   "cell_type": "code",
   "execution_count": 9,
   "id": "c34a4a5d",
   "metadata": {},
   "outputs": [],
   "source": [
    "#Replace the Na values into 0's\n",
    "d1['IsBogus'] = d1['IsBogus'].fillna(0)"
   ]
  },
  {
   "cell_type": "code",
   "execution_count": 10,
   "id": "1c4aa91d",
   "metadata": {},
   "outputs": [
    {
     "name": "stdout",
     "output_type": "stream",
     "text": [
      "GSTIN      0\n",
      "IsBogus    0\n",
      "dtype: int64\n"
     ]
    }
   ],
   "source": [
    "#Recheck the Na values in d1\n",
    "print(d1.isnull().sum())"
   ]
  },
  {
   "cell_type": "code",
   "execution_count": 11,
   "id": "c32705ba",
   "metadata": {},
   "outputs": [
    {
     "data": {
      "text/plain": [
       "24970"
      ]
     },
     "execution_count": 11,
     "metadata": {},
     "output_type": "execute_result"
    }
   ],
   "source": [
    "#Check Na values in d2\n",
    "d2.isnull().sum().sum()"
   ]
  },
  {
   "cell_type": "code",
   "execution_count": 12,
   "id": "d77cdb5f",
   "metadata": {},
   "outputs": [
    {
     "name": "stdout",
     "output_type": "stream",
     "text": [
      "SELLER_GSTIN          0\n",
      "PURCHASER_GSTIN      10\n",
      "FILING_PERIOD        15\n",
      "INVOICE_NUM           0\n",
      "INVOICE_DATE         10\n",
      "QUANTITY              0\n",
      "TAXABLE_AMOUNT        0\n",
      "TAX_RATE              0\n",
      "CGST               6886\n",
      "SGST               6886\n",
      "IGST               7060\n",
      "CESS               4103\n",
      "dtype: int64\n"
     ]
    }
   ],
   "source": [
    "#Calculate the Total no.of Na's\n",
    "print(d2.isnull().sum())"
   ]
  },
  {
   "cell_type": "code",
   "execution_count": 13,
   "id": "3d9584c1",
   "metadata": {},
   "outputs": [],
   "source": [
    "#Replace the Na values into 0's\n",
    "d2['CGST'] = d2['CGST'].fillna(0)\n",
    "d2['SGST'] = d2['SGST'].fillna(0)\n",
    "d2['IGST'] = d2['IGST'].fillna(0)\n",
    "d2['CESS'] = d2['CESS'].fillna(0)\n",
    "d2['FILING_PERIOD'] = d2['FILING_PERIOD'].fillna(method='bfill')"
   ]
  },
  {
   "cell_type": "code",
   "execution_count": 14,
   "id": "dd2d2f77",
   "metadata": {
    "scrolled": true
   },
   "outputs": [
    {
     "name": "stdout",
     "output_type": "stream",
     "text": [
      "SELLER_GSTIN        0\n",
      "PURCHASER_GSTIN    10\n",
      "FILING_PERIOD       0\n",
      "INVOICE_NUM         0\n",
      "INVOICE_DATE       10\n",
      "QUANTITY            0\n",
      "TAXABLE_AMOUNT      0\n",
      "TAX_RATE            0\n",
      "CGST                0\n",
      "SGST                0\n",
      "IGST                0\n",
      "CESS                0\n",
      "dtype: int64\n"
     ]
    }
   ],
   "source": [
    "#Recheck the Na values in d2\n",
    "print(d2.isnull().sum())"
   ]
  },
  {
   "cell_type": "markdown",
   "id": "7e6ad0f6",
   "metadata": {},
   "source": [
    "# 3. Merge Firms data with the imported Transactions data."
   ]
  },
  {
   "cell_type": "code",
   "execution_count": 15,
   "id": "64722b6f",
   "metadata": {
    "scrolled": true
   },
   "outputs": [
    {
     "data": {
      "text/html": [
       "<div>\n",
       "<style scoped>\n",
       "    .dataframe tbody tr th:only-of-type {\n",
       "        vertical-align: middle;\n",
       "    }\n",
       "\n",
       "    .dataframe tbody tr th {\n",
       "        vertical-align: top;\n",
       "    }\n",
       "\n",
       "    .dataframe thead th {\n",
       "        text-align: right;\n",
       "    }\n",
       "</style>\n",
       "<table border=\"1\" class=\"dataframe\">\n",
       "  <thead>\n",
       "    <tr style=\"text-align: right;\">\n",
       "      <th></th>\n",
       "      <th>GSTIN</th>\n",
       "      <th>IsBogus</th>\n",
       "      <th>SELLER_GSTIN</th>\n",
       "      <th>PURCHASER_GSTIN</th>\n",
       "      <th>FILING_PERIOD</th>\n",
       "      <th>INVOICE_NUM</th>\n",
       "      <th>INVOICE_DATE</th>\n",
       "      <th>QUANTITY</th>\n",
       "      <th>TAXABLE_AMOUNT</th>\n",
       "      <th>TAX_RATE</th>\n",
       "      <th>CGST</th>\n",
       "      <th>SGST</th>\n",
       "      <th>IGST</th>\n",
       "      <th>CESS</th>\n",
       "    </tr>\n",
       "  </thead>\n",
       "  <tbody>\n",
       "    <tr>\n",
       "      <th>0</th>\n",
       "      <td>0010215452</td>\n",
       "      <td>0.0</td>\n",
       "      <td>80E18AC42B</td>\n",
       "      <td>325EDDD715</td>\n",
       "      <td>12018.0</td>\n",
       "      <td>9140389879</td>\n",
       "      <td>2018-03-02</td>\n",
       "      <td>2</td>\n",
       "      <td>2601847.17</td>\n",
       "      <td>12</td>\n",
       "      <td>0.00</td>\n",
       "      <td>0.00</td>\n",
       "      <td>312221.66</td>\n",
       "      <td>0.0</td>\n",
       "    </tr>\n",
       "    <tr>\n",
       "      <th>1</th>\n",
       "      <td>0038162EB9</td>\n",
       "      <td>0.0</td>\n",
       "      <td>776BBCB820</td>\n",
       "      <td>262EA86704</td>\n",
       "      <td>12018.0</td>\n",
       "      <td>HR6616004285</td>\n",
       "      <td>2018-03-17</td>\n",
       "      <td>1</td>\n",
       "      <td>916689.15</td>\n",
       "      <td>18</td>\n",
       "      <td>0.00</td>\n",
       "      <td>0.00</td>\n",
       "      <td>165004.05</td>\n",
       "      <td>0.0</td>\n",
       "    </tr>\n",
       "    <tr>\n",
       "      <th>2</th>\n",
       "      <td>004F894AEC</td>\n",
       "      <td>0.0</td>\n",
       "      <td>5A4FC8F226</td>\n",
       "      <td>AA67FDC3A6</td>\n",
       "      <td>12018.0</td>\n",
       "      <td>04B045/19268</td>\n",
       "      <td>2018-03-05</td>\n",
       "      <td>1</td>\n",
       "      <td>41457.97</td>\n",
       "      <td>5</td>\n",
       "      <td>0.00</td>\n",
       "      <td>0.00</td>\n",
       "      <td>2072.90</td>\n",
       "      <td>5796.0</td>\n",
       "    </tr>\n",
       "    <tr>\n",
       "      <th>3</th>\n",
       "      <td>005A8D5BC6</td>\n",
       "      <td>0.0</td>\n",
       "      <td>E7A5A47B46</td>\n",
       "      <td>37626EC80E</td>\n",
       "      <td>12018.0</td>\n",
       "      <td>3150</td>\n",
       "      <td>2018-01-16</td>\n",
       "      <td>1</td>\n",
       "      <td>39873.45</td>\n",
       "      <td>28</td>\n",
       "      <td>5582.28</td>\n",
       "      <td>5582.28</td>\n",
       "      <td>0.00</td>\n",
       "      <td>0.0</td>\n",
       "    </tr>\n",
       "    <tr>\n",
       "      <th>4</th>\n",
       "      <td>007011E20F</td>\n",
       "      <td>0.0</td>\n",
       "      <td>6920AA6331</td>\n",
       "      <td>36DB0ABC9A</td>\n",
       "      <td>12018.0</td>\n",
       "      <td>RICE-343</td>\n",
       "      <td>2018-03-10</td>\n",
       "      <td>1</td>\n",
       "      <td>771169.00</td>\n",
       "      <td>0</td>\n",
       "      <td>0.00</td>\n",
       "      <td>0.00</td>\n",
       "      <td>0.00</td>\n",
       "      <td>0.0</td>\n",
       "    </tr>\n",
       "    <tr>\n",
       "      <th>...</th>\n",
       "      <td>...</td>\n",
       "      <td>...</td>\n",
       "      <td>...</td>\n",
       "      <td>...</td>\n",
       "      <td>...</td>\n",
       "      <td>...</td>\n",
       "      <td>...</td>\n",
       "      <td>...</td>\n",
       "      <td>...</td>\n",
       "      <td>...</td>\n",
       "      <td>...</td>\n",
       "      <td>...</td>\n",
       "      <td>...</td>\n",
       "      <td>...</td>\n",
       "    </tr>\n",
       "    <tr>\n",
       "      <th>95</th>\n",
       "      <td>07DF9A0FE8</td>\n",
       "      <td>0.0</td>\n",
       "      <td>C44FFF7C7A</td>\n",
       "      <td>398C7082EB</td>\n",
       "      <td>12018.0</td>\n",
       "      <td>IN0001115329</td>\n",
       "      <td>2018-01-22</td>\n",
       "      <td>1</td>\n",
       "      <td>75504.00</td>\n",
       "      <td>12</td>\n",
       "      <td>0.00</td>\n",
       "      <td>0.00</td>\n",
       "      <td>9060.48</td>\n",
       "      <td>0.0</td>\n",
       "    </tr>\n",
       "    <tr>\n",
       "      <th>96</th>\n",
       "      <td>07EE2915A6</td>\n",
       "      <td>0.0</td>\n",
       "      <td>C1C058DFB2</td>\n",
       "      <td>4954D8982D</td>\n",
       "      <td>12018.0</td>\n",
       "      <td>QACA1718/05071</td>\n",
       "      <td>2018-01-05</td>\n",
       "      <td>1801</td>\n",
       "      <td>5000.00</td>\n",
       "      <td>18</td>\n",
       "      <td>0.00</td>\n",
       "      <td>0.00</td>\n",
       "      <td>900.00</td>\n",
       "      <td>0.0</td>\n",
       "    </tr>\n",
       "    <tr>\n",
       "      <th>97</th>\n",
       "      <td>080ED1ADC2</td>\n",
       "      <td>0.0</td>\n",
       "      <td>F4E518B376</td>\n",
       "      <td>410127754A</td>\n",
       "      <td>12018.0</td>\n",
       "      <td>17470</td>\n",
       "      <td>2018-01-10</td>\n",
       "      <td>1</td>\n",
       "      <td>3125.00</td>\n",
       "      <td>18</td>\n",
       "      <td>281.25</td>\n",
       "      <td>281.25</td>\n",
       "      <td>0.00</td>\n",
       "      <td>0.0</td>\n",
       "    </tr>\n",
       "    <tr>\n",
       "      <th>98</th>\n",
       "      <td>083B47E7EF</td>\n",
       "      <td>0.0</td>\n",
       "      <td>0F08B6DF08</td>\n",
       "      <td>E306607037</td>\n",
       "      <td>12018.0</td>\n",
       "      <td>2118702230004864</td>\n",
       "      <td>2018-01-17</td>\n",
       "      <td>1</td>\n",
       "      <td>123630.19</td>\n",
       "      <td>28</td>\n",
       "      <td>0.00</td>\n",
       "      <td>0.00</td>\n",
       "      <td>34616.45</td>\n",
       "      <td>0.0</td>\n",
       "    </tr>\n",
       "    <tr>\n",
       "      <th>99</th>\n",
       "      <td>084403FECE</td>\n",
       "      <td>0.0</td>\n",
       "      <td>F3D1E24350</td>\n",
       "      <td>A62B9D2D0C</td>\n",
       "      <td>12018.0</td>\n",
       "      <td>0017063311</td>\n",
       "      <td>2018-01-31</td>\n",
       "      <td>1801</td>\n",
       "      <td>133740.00</td>\n",
       "      <td>18</td>\n",
       "      <td>0.00</td>\n",
       "      <td>0.00</td>\n",
       "      <td>24073.20</td>\n",
       "      <td>0.0</td>\n",
       "    </tr>\n",
       "  </tbody>\n",
       "</table>\n",
       "<p>100 rows × 14 columns</p>\n",
       "</div>"
      ],
      "text/plain": [
       "         GSTIN  IsBogus SELLER_GSTIN PURCHASER_GSTIN  FILING_PERIOD  \\\n",
       "0   0010215452      0.0   80E18AC42B      325EDDD715        12018.0   \n",
       "1   0038162EB9      0.0   776BBCB820      262EA86704        12018.0   \n",
       "2   004F894AEC      0.0   5A4FC8F226      AA67FDC3A6        12018.0   \n",
       "3   005A8D5BC6      0.0   E7A5A47B46      37626EC80E        12018.0   \n",
       "4   007011E20F      0.0   6920AA6331      36DB0ABC9A        12018.0   \n",
       "..         ...      ...          ...             ...            ...   \n",
       "95  07DF9A0FE8      0.0   C44FFF7C7A      398C7082EB        12018.0   \n",
       "96  07EE2915A6      0.0   C1C058DFB2      4954D8982D        12018.0   \n",
       "97  080ED1ADC2      0.0   F4E518B376      410127754A        12018.0   \n",
       "98  083B47E7EF      0.0   0F08B6DF08      E306607037        12018.0   \n",
       "99  084403FECE      0.0   F3D1E24350      A62B9D2D0C        12018.0   \n",
       "\n",
       "         INVOICE_NUM INVOICE_DATE  QUANTITY  TAXABLE_AMOUNT  TAX_RATE  \\\n",
       "0         9140389879   2018-03-02         2      2601847.17        12   \n",
       "1       HR6616004285   2018-03-17         1       916689.15        18   \n",
       "2       04B045/19268   2018-03-05         1        41457.97         5   \n",
       "3               3150   2018-01-16         1        39873.45        28   \n",
       "4           RICE-343   2018-03-10         1       771169.00         0   \n",
       "..               ...          ...       ...             ...       ...   \n",
       "95      IN0001115329   2018-01-22         1        75504.00        12   \n",
       "96    QACA1718/05071   2018-01-05      1801         5000.00        18   \n",
       "97             17470   2018-01-10         1         3125.00        18   \n",
       "98  2118702230004864   2018-01-17         1       123630.19        28   \n",
       "99        0017063311   2018-01-31      1801       133740.00        18   \n",
       "\n",
       "       CGST     SGST       IGST    CESS  \n",
       "0      0.00     0.00  312221.66     0.0  \n",
       "1      0.00     0.00  165004.05     0.0  \n",
       "2      0.00     0.00    2072.90  5796.0  \n",
       "3   5582.28  5582.28       0.00     0.0  \n",
       "4      0.00     0.00       0.00     0.0  \n",
       "..      ...      ...        ...     ...  \n",
       "95     0.00     0.00    9060.48     0.0  \n",
       "96     0.00     0.00     900.00     0.0  \n",
       "97   281.25   281.25       0.00     0.0  \n",
       "98     0.00     0.00   34616.45     0.0  \n",
       "99     0.00     0.00   24073.20     0.0  \n",
       "\n",
       "[100 rows x 14 columns]"
      ]
     },
     "metadata": {},
     "output_type": "display_data"
    }
   ],
   "source": [
    "#Merge the two different DataFrames as a df\n",
    "df = pd.concat([d1, d2], axis=1, join='inner')\n",
    "display(df.head(100))"
   ]
  },
  {
   "cell_type": "markdown",
   "id": "35bbf5c0",
   "metadata": {},
   "source": [
    "# 4. Observe that in any given transaction, only one of IGST and CGST is non-zero. Why might that be?\n",
    "\n",
    "# Answer:\n",
    "   I can't understand what you are exactly trying to say in assessment queries, But my opinion is there are \"NO\" non-zero values in this dataset that you have given. Before and After the datasheet merged you can see below what I tried to show the outcome of your question."
   ]
  },
  {
   "cell_type": "markdown",
   "id": "e9165881",
   "metadata": {},
   "source": [
    "# Before Merge"
   ]
  },
  {
   "cell_type": "code",
   "execution_count": 16,
   "id": "0589e73e",
   "metadata": {
    "scrolled": true
   },
   "outputs": [
    {
     "name": "stdout",
     "output_type": "stream",
     "text": [
      "count of NON-ZERO IGST is  11792 ///// count of NON-ZERO CGST is  7218\n"
     ]
    }
   ],
   "source": [
    "#Count the NON-ZERO data's in IGST & CGST\n",
    "count_IGST = (d2['IGST'] != 0).sum()\n",
    "count_CGST = (d2['CGST'] != 0).sum()\n",
    "print('count of NON-ZERO IGST is ',count_IGST,'/////',\n",
    "      'count of NON-ZERO CGST is ',count_CGST)"
   ]
  },
  {
   "cell_type": "code",
   "execution_count": 17,
   "id": "a02bf5df",
   "metadata": {},
   "outputs": [
    {
     "data": {
      "text/plain": [
       "19010"
      ]
     },
     "execution_count": 17,
     "metadata": {},
     "output_type": "execute_result"
    }
   ],
   "source": [
    "#Total no of NON-ZERO's\n",
    "11792+7218"
   ]
  },
  {
   "cell_type": "markdown",
   "id": "1e4df1b2",
   "metadata": {},
   "source": [
    "# After Merge"
   ]
  },
  {
   "cell_type": "code",
   "execution_count": 18,
   "id": "ad851200",
   "metadata": {
    "scrolled": false
   },
   "outputs": [
    {
     "data": {
      "text/html": [
       "<div>\n",
       "<style scoped>\n",
       "    .dataframe tbody tr th:only-of-type {\n",
       "        vertical-align: middle;\n",
       "    }\n",
       "\n",
       "    .dataframe tbody tr th {\n",
       "        vertical-align: top;\n",
       "    }\n",
       "\n",
       "    .dataframe thead th {\n",
       "        text-align: right;\n",
       "    }\n",
       "</style>\n",
       "<table border=\"1\" class=\"dataframe\">\n",
       "  <thead>\n",
       "    <tr style=\"text-align: right;\">\n",
       "      <th></th>\n",
       "      <th>GSTIN</th>\n",
       "      <th>IsBogus</th>\n",
       "      <th>SELLER_GSTIN</th>\n",
       "      <th>PURCHASER_GSTIN</th>\n",
       "      <th>FILING_PERIOD</th>\n",
       "      <th>INVOICE_NUM</th>\n",
       "      <th>INVOICE_DATE</th>\n",
       "      <th>QUANTITY</th>\n",
       "      <th>TAXABLE_AMOUNT</th>\n",
       "      <th>TAX_RATE</th>\n",
       "      <th>CGST</th>\n",
       "      <th>SGST</th>\n",
       "      <th>IGST</th>\n",
       "      <th>CESS</th>\n",
       "      <th>all_non_zero</th>\n",
       "    </tr>\n",
       "  </thead>\n",
       "  <tbody>\n",
       "    <tr>\n",
       "      <th>0</th>\n",
       "      <td>0010215452</td>\n",
       "      <td>0.0</td>\n",
       "      <td>80E18AC42B</td>\n",
       "      <td>325EDDD715</td>\n",
       "      <td>12018.0</td>\n",
       "      <td>9140389879</td>\n",
       "      <td>2018-03-02</td>\n",
       "      <td>2</td>\n",
       "      <td>2601847.17</td>\n",
       "      <td>12</td>\n",
       "      <td>0.00</td>\n",
       "      <td>0.00</td>\n",
       "      <td>312221.66</td>\n",
       "      <td>0.0</td>\n",
       "      <td>False</td>\n",
       "    </tr>\n",
       "    <tr>\n",
       "      <th>1</th>\n",
       "      <td>0038162EB9</td>\n",
       "      <td>0.0</td>\n",
       "      <td>776BBCB820</td>\n",
       "      <td>262EA86704</td>\n",
       "      <td>12018.0</td>\n",
       "      <td>HR6616004285</td>\n",
       "      <td>2018-03-17</td>\n",
       "      <td>1</td>\n",
       "      <td>916689.15</td>\n",
       "      <td>18</td>\n",
       "      <td>0.00</td>\n",
       "      <td>0.00</td>\n",
       "      <td>165004.05</td>\n",
       "      <td>0.0</td>\n",
       "      <td>False</td>\n",
       "    </tr>\n",
       "    <tr>\n",
       "      <th>2</th>\n",
       "      <td>004F894AEC</td>\n",
       "      <td>0.0</td>\n",
       "      <td>5A4FC8F226</td>\n",
       "      <td>AA67FDC3A6</td>\n",
       "      <td>12018.0</td>\n",
       "      <td>04B045/19268</td>\n",
       "      <td>2018-03-05</td>\n",
       "      <td>1</td>\n",
       "      <td>41457.97</td>\n",
       "      <td>5</td>\n",
       "      <td>0.00</td>\n",
       "      <td>0.00</td>\n",
       "      <td>2072.90</td>\n",
       "      <td>5796.0</td>\n",
       "      <td>False</td>\n",
       "    </tr>\n",
       "    <tr>\n",
       "      <th>3</th>\n",
       "      <td>005A8D5BC6</td>\n",
       "      <td>0.0</td>\n",
       "      <td>E7A5A47B46</td>\n",
       "      <td>37626EC80E</td>\n",
       "      <td>12018.0</td>\n",
       "      <td>3150</td>\n",
       "      <td>2018-01-16</td>\n",
       "      <td>1</td>\n",
       "      <td>39873.45</td>\n",
       "      <td>28</td>\n",
       "      <td>5582.28</td>\n",
       "      <td>5582.28</td>\n",
       "      <td>0.00</td>\n",
       "      <td>0.0</td>\n",
       "      <td>False</td>\n",
       "    </tr>\n",
       "    <tr>\n",
       "      <th>4</th>\n",
       "      <td>007011E20F</td>\n",
       "      <td>0.0</td>\n",
       "      <td>6920AA6331</td>\n",
       "      <td>36DB0ABC9A</td>\n",
       "      <td>12018.0</td>\n",
       "      <td>RICE-343</td>\n",
       "      <td>2018-03-10</td>\n",
       "      <td>1</td>\n",
       "      <td>771169.00</td>\n",
       "      <td>0</td>\n",
       "      <td>0.00</td>\n",
       "      <td>0.00</td>\n",
       "      <td>0.00</td>\n",
       "      <td>0.0</td>\n",
       "      <td>False</td>\n",
       "    </tr>\n",
       "    <tr>\n",
       "      <th>...</th>\n",
       "      <td>...</td>\n",
       "      <td>...</td>\n",
       "      <td>...</td>\n",
       "      <td>...</td>\n",
       "      <td>...</td>\n",
       "      <td>...</td>\n",
       "      <td>...</td>\n",
       "      <td>...</td>\n",
       "      <td>...</td>\n",
       "      <td>...</td>\n",
       "      <td>...</td>\n",
       "      <td>...</td>\n",
       "      <td>...</td>\n",
       "      <td>...</td>\n",
       "      <td>...</td>\n",
       "    </tr>\n",
       "    <tr>\n",
       "      <th>3126</th>\n",
       "      <td>FFBA1FAA42</td>\n",
       "      <td>0.0</td>\n",
       "      <td>5A4FC8F226</td>\n",
       "      <td>FC5D618E2E</td>\n",
       "      <td>12018.0</td>\n",
       "      <td>D17G18SC220167</td>\n",
       "      <td>2018-01-25</td>\n",
       "      <td>1801</td>\n",
       "      <td>80000.00</td>\n",
       "      <td>18</td>\n",
       "      <td>0.00</td>\n",
       "      <td>0.00</td>\n",
       "      <td>14400.00</td>\n",
       "      <td>0.0</td>\n",
       "      <td>False</td>\n",
       "    </tr>\n",
       "    <tr>\n",
       "      <th>3127</th>\n",
       "      <td>FFC08A9BD1</td>\n",
       "      <td>0.0</td>\n",
       "      <td>0F08B6DF08</td>\n",
       "      <td>41074F3B58</td>\n",
       "      <td>12018.0</td>\n",
       "      <td>2118704230000957</td>\n",
       "      <td>2018-01-25</td>\n",
       "      <td>1</td>\n",
       "      <td>26349.63</td>\n",
       "      <td>28</td>\n",
       "      <td>0.00</td>\n",
       "      <td>0.00</td>\n",
       "      <td>7377.90</td>\n",
       "      <td>0.0</td>\n",
       "      <td>False</td>\n",
       "    </tr>\n",
       "    <tr>\n",
       "      <th>3128</th>\n",
       "      <td>FFC97B6D56</td>\n",
       "      <td>0.0</td>\n",
       "      <td>C15EA8D5A2</td>\n",
       "      <td>FAB06B8D5F</td>\n",
       "      <td>12018.0</td>\n",
       "      <td>826071347</td>\n",
       "      <td>2018-01-03</td>\n",
       "      <td>1801</td>\n",
       "      <td>12000.00</td>\n",
       "      <td>18</td>\n",
       "      <td>1080.00</td>\n",
       "      <td>1080.00</td>\n",
       "      <td>0.00</td>\n",
       "      <td>0.0</td>\n",
       "      <td>False</td>\n",
       "    </tr>\n",
       "    <tr>\n",
       "      <th>3129</th>\n",
       "      <td>FFCCB78B66</td>\n",
       "      <td>0.0</td>\n",
       "      <td>62CD3BF990</td>\n",
       "      <td>A99F0E58FF</td>\n",
       "      <td>12018.0</td>\n",
       "      <td>3706034433</td>\n",
       "      <td>2018-01-12</td>\n",
       "      <td>1</td>\n",
       "      <td>95687.80</td>\n",
       "      <td>18</td>\n",
       "      <td>0.00</td>\n",
       "      <td>0.00</td>\n",
       "      <td>17223.80</td>\n",
       "      <td>0.0</td>\n",
       "      <td>False</td>\n",
       "    </tr>\n",
       "    <tr>\n",
       "      <th>3130</th>\n",
       "      <td>FFDC7ED555</td>\n",
       "      <td>0.0</td>\n",
       "      <td>86DFEB0A3F</td>\n",
       "      <td>507FDBAC1E</td>\n",
       "      <td>12018.0</td>\n",
       "      <td>9918010344180006</td>\n",
       "      <td>2018-01-02</td>\n",
       "      <td>1</td>\n",
       "      <td>1962069.00</td>\n",
       "      <td>5</td>\n",
       "      <td>49051.73</td>\n",
       "      <td>49051.73</td>\n",
       "      <td>0.00</td>\n",
       "      <td>0.0</td>\n",
       "      <td>False</td>\n",
       "    </tr>\n",
       "  </tbody>\n",
       "</table>\n",
       "<p>3131 rows × 15 columns</p>\n",
       "</div>"
      ],
      "text/plain": [
       "           GSTIN  IsBogus SELLER_GSTIN PURCHASER_GSTIN  FILING_PERIOD  \\\n",
       "0     0010215452      0.0   80E18AC42B      325EDDD715        12018.0   \n",
       "1     0038162EB9      0.0   776BBCB820      262EA86704        12018.0   \n",
       "2     004F894AEC      0.0   5A4FC8F226      AA67FDC3A6        12018.0   \n",
       "3     005A8D5BC6      0.0   E7A5A47B46      37626EC80E        12018.0   \n",
       "4     007011E20F      0.0   6920AA6331      36DB0ABC9A        12018.0   \n",
       "...          ...      ...          ...             ...            ...   \n",
       "3126  FFBA1FAA42      0.0   5A4FC8F226      FC5D618E2E        12018.0   \n",
       "3127  FFC08A9BD1      0.0   0F08B6DF08      41074F3B58        12018.0   \n",
       "3128  FFC97B6D56      0.0   C15EA8D5A2      FAB06B8D5F        12018.0   \n",
       "3129  FFCCB78B66      0.0   62CD3BF990      A99F0E58FF        12018.0   \n",
       "3130  FFDC7ED555      0.0   86DFEB0A3F      507FDBAC1E        12018.0   \n",
       "\n",
       "           INVOICE_NUM INVOICE_DATE  QUANTITY  TAXABLE_AMOUNT  TAX_RATE  \\\n",
       "0           9140389879   2018-03-02         2      2601847.17        12   \n",
       "1         HR6616004285   2018-03-17         1       916689.15        18   \n",
       "2         04B045/19268   2018-03-05         1        41457.97         5   \n",
       "3                 3150   2018-01-16         1        39873.45        28   \n",
       "4             RICE-343   2018-03-10         1       771169.00         0   \n",
       "...                ...          ...       ...             ...       ...   \n",
       "3126    D17G18SC220167   2018-01-25      1801        80000.00        18   \n",
       "3127  2118704230000957   2018-01-25         1        26349.63        28   \n",
       "3128         826071347   2018-01-03      1801        12000.00        18   \n",
       "3129        3706034433   2018-01-12         1        95687.80        18   \n",
       "3130  9918010344180006   2018-01-02         1      1962069.00         5   \n",
       "\n",
       "          CGST      SGST       IGST    CESS  all_non_zero  \n",
       "0         0.00      0.00  312221.66     0.0         False  \n",
       "1         0.00      0.00  165004.05     0.0         False  \n",
       "2         0.00      0.00    2072.90  5796.0         False  \n",
       "3      5582.28   5582.28       0.00     0.0         False  \n",
       "4         0.00      0.00       0.00     0.0         False  \n",
       "...        ...       ...        ...     ...           ...  \n",
       "3126      0.00      0.00   14400.00     0.0         False  \n",
       "3127      0.00      0.00    7377.90     0.0         False  \n",
       "3128   1080.00   1080.00       0.00     0.0         False  \n",
       "3129      0.00      0.00   17223.80     0.0         False  \n",
       "3130  49051.73  49051.73       0.00     0.0         False  \n",
       "\n",
       "[3131 rows x 15 columns]"
      ]
     },
     "metadata": {},
     "output_type": "display_data"
    }
   ],
   "source": [
    "#Count the NON-ZERO data's in IGST & CGST\n",
    "non_zero= df\n",
    "all_non_zero = non_zero.eval(\"all_non_zero = (IGST!=0)&(CGST!=0)\").query(\"all_non_zero==False\")\n",
    "display(all_non_zero)"
   ]
  },
  {
   "cell_type": "code",
   "execution_count": 19,
   "id": "d1317d38",
   "metadata": {
    "scrolled": true
   },
   "outputs": [
    {
     "name": "stdout",
     "output_type": "stream",
     "text": [
      "3131\n"
     ]
    }
   ],
   "source": [
    "#Total no of NON-ZERO's\n",
    "number_non_zero_true= (all_non_zero[\"all_non_zero\"]!=True).count()\n",
    "print(number_non_zero_true)"
   ]
  },
  {
   "cell_type": "markdown",
   "id": "beee8654",
   "metadata": {},
   "source": [
    "# 5. Note your responses to the following questions in your ipython notebook and show calculations wherever applicable:\n"
   ]
  },
  {
   "cell_type": "markdown",
   "id": "84e2fe0b",
   "metadata": {},
   "source": [
    "__________________________________________________________________________________________________________________"
   ]
  },
  {
   "cell_type": "markdown",
   "id": "eaa5cd1b",
   "metadata": {},
   "source": [
    "# ○ How many different tax rates are present in the transactions data?"
   ]
  },
  {
   "cell_type": "code",
   "execution_count": 20,
   "id": "a224726e",
   "metadata": {
    "scrolled": false
   },
   "outputs": [
    {
     "data": {
      "text/plain": [
       "0       12\n",
       "1       18\n",
       "2        5\n",
       "3       28\n",
       "4        0\n",
       "        ..\n",
       "3126    18\n",
       "3127    28\n",
       "3128    18\n",
       "3129    18\n",
       "3130     5\n",
       "Name: TAX_RATE, Length: 3131, dtype: int64"
      ]
     },
     "metadata": {},
     "output_type": "display_data"
    }
   ],
   "source": [
    "#Create a variable for TAX_RATE column to find different tax rate\n",
    "Dif_Tax_Rates = df['TAX_RATE']\n",
    "display(Dif_Tax_Rates)"
   ]
  },
  {
   "cell_type": "code",
   "execution_count": 21,
   "id": "6b47196d",
   "metadata": {
    "scrolled": true
   },
   "outputs": [
    {
     "data": {
      "text/plain": [
       "Counter({12: 365, 18: 1767, 5: 322, 28: 558, 0: 117, 3: 2})"
      ]
     },
     "metadata": {},
     "output_type": "display_data"
    }
   ],
   "source": [
    "#Use Counter function to find different types of tax rates and total count of each and every tax rates.\n",
    "from collections import Counter\n",
    "res = Counter(Dif_Tax_Rates)\n",
    "\n",
    "display(res)"
   ]
  },
  {
   "cell_type": "code",
   "execution_count": 22,
   "id": "332828a3",
   "metadata": {
    "scrolled": true
   },
   "outputs": [
    {
     "data": {
      "image/png": "[encoded data removed]",
      "text/plain": [
       "<Figure size 432x288 with 1 Axes>"
      ]
     },
     "metadata": {
      "needs_background": "light"
     },
     "output_type": "display_data"
    }
   ],
   "source": [
    "#Plot for different types of tax rates and total count of each and every tax rates.\n",
    "names = list(res.keys())\n",
    "values = list(res.values())\n",
    "plt.bar(range(len(res)), values, tick_label=names)\n",
    "plt.ylim(100,2000)\n",
    "plt.xlabel('Different Tax Rates')\n",
    "plt.ylabel('Total Count of Different Tax Rates')\n",
    "plt.show()"
   ]
  },
  {
   "cell_type": "markdown",
   "id": "6a52afa5",
   "metadata": {},
   "source": [
    "1) There are 6 Different types of Tax Rates(DTR) in this data.\n",
    "\n",
    "2) And Total Counts of Different Tax Rates(TCDTR).\n",
    "\n",
    "           --------------\n",
    "           ! DTR ! TCDTR!   Highest Rate of Tax is 18%\n",
    "           !-----!------!   \n",
    "           ! 12  ! 365  !   Lowest Rate of Tax is 3%\n",
    "           ! 18  ! 1767 !\n",
    "           !  5  ! 322  !\n",
    "           ! 28  ! 558  !\n",
    "           !  0  ! 117  !\n",
    "           !  3  ! 2    !\n",
    "           --------------"
   ]
  },
  {
   "cell_type": "markdown",
   "id": "736b96e1",
   "metadata": {},
   "source": [
    "# ○ What is the average taxable value across all transactions?"
   ]
  },
  {
   "cell_type": "code",
   "execution_count": 23,
   "id": "52f9a0ad",
   "metadata": {
    "scrolled": false
   },
   "outputs": [
    {
     "data": {
      "text/html": [
       "<div>\n",
       "<style scoped>\n",
       "    .dataframe tbody tr th:only-of-type {\n",
       "        vertical-align: middle;\n",
       "    }\n",
       "\n",
       "    .dataframe tbody tr th {\n",
       "        vertical-align: top;\n",
       "    }\n",
       "\n",
       "    .dataframe thead th {\n",
       "        text-align: right;\n",
       "    }\n",
       "</style>\n",
       "<table border=\"1\" class=\"dataframe\">\n",
       "  <thead>\n",
       "    <tr style=\"text-align: right;\">\n",
       "      <th></th>\n",
       "      <th>CGST</th>\n",
       "      <th>SGST</th>\n",
       "      <th>IGST</th>\n",
       "      <th>CESS</th>\n",
       "    </tr>\n",
       "  </thead>\n",
       "  <tbody>\n",
       "    <tr>\n",
       "      <th>0</th>\n",
       "      <td>0.00</td>\n",
       "      <td>0.00</td>\n",
       "      <td>312221.66</td>\n",
       "      <td>0.0</td>\n",
       "    </tr>\n",
       "    <tr>\n",
       "      <th>1</th>\n",
       "      <td>0.00</td>\n",
       "      <td>0.00</td>\n",
       "      <td>165004.05</td>\n",
       "      <td>0.0</td>\n",
       "    </tr>\n",
       "    <tr>\n",
       "      <th>2</th>\n",
       "      <td>0.00</td>\n",
       "      <td>0.00</td>\n",
       "      <td>2072.90</td>\n",
       "      <td>5796.0</td>\n",
       "    </tr>\n",
       "    <tr>\n",
       "      <th>3</th>\n",
       "      <td>5582.28</td>\n",
       "      <td>5582.28</td>\n",
       "      <td>0.00</td>\n",
       "      <td>0.0</td>\n",
       "    </tr>\n",
       "    <tr>\n",
       "      <th>4</th>\n",
       "      <td>0.00</td>\n",
       "      <td>0.00</td>\n",
       "      <td>0.00</td>\n",
       "      <td>0.0</td>\n",
       "    </tr>\n",
       "    <tr>\n",
       "      <th>...</th>\n",
       "      <td>...</td>\n",
       "      <td>...</td>\n",
       "      <td>...</td>\n",
       "      <td>...</td>\n",
       "    </tr>\n",
       "    <tr>\n",
       "      <th>3126</th>\n",
       "      <td>0.00</td>\n",
       "      <td>0.00</td>\n",
       "      <td>14400.00</td>\n",
       "      <td>0.0</td>\n",
       "    </tr>\n",
       "    <tr>\n",
       "      <th>3127</th>\n",
       "      <td>0.00</td>\n",
       "      <td>0.00</td>\n",
       "      <td>7377.90</td>\n",
       "      <td>0.0</td>\n",
       "    </tr>\n",
       "    <tr>\n",
       "      <th>3128</th>\n",
       "      <td>1080.00</td>\n",
       "      <td>1080.00</td>\n",
       "      <td>0.00</td>\n",
       "      <td>0.0</td>\n",
       "    </tr>\n",
       "    <tr>\n",
       "      <th>3129</th>\n",
       "      <td>0.00</td>\n",
       "      <td>0.00</td>\n",
       "      <td>17223.80</td>\n",
       "      <td>0.0</td>\n",
       "    </tr>\n",
       "    <tr>\n",
       "      <th>3130</th>\n",
       "      <td>49051.73</td>\n",
       "      <td>49051.73</td>\n",
       "      <td>0.00</td>\n",
       "      <td>0.0</td>\n",
       "    </tr>\n",
       "  </tbody>\n",
       "</table>\n",
       "<p>3131 rows × 4 columns</p>\n",
       "</div>"
      ],
      "text/plain": [
       "          CGST      SGST       IGST    CESS\n",
       "0         0.00      0.00  312221.66     0.0\n",
       "1         0.00      0.00  165004.05     0.0\n",
       "2         0.00      0.00    2072.90  5796.0\n",
       "3      5582.28   5582.28       0.00     0.0\n",
       "4         0.00      0.00       0.00     0.0\n",
       "...        ...       ...        ...     ...\n",
       "3126      0.00      0.00   14400.00     0.0\n",
       "3127      0.00      0.00    7377.90     0.0\n",
       "3128   1080.00   1080.00       0.00     0.0\n",
       "3129      0.00      0.00   17223.80     0.0\n",
       "3130  49051.73  49051.73       0.00     0.0\n",
       "\n",
       "[3131 rows x 4 columns]"
      ]
     },
     "metadata": {},
     "output_type": "display_data"
    }
   ],
   "source": [
    "#Create a variable for taxable value across all transactions.\n",
    "Tax_Values = df[['CGST','SGST','IGST','CESS']]\n",
    "display(Tax_Values)"
   ]
  },
  {
   "cell_type": "code",
   "execution_count": 24,
   "id": "d6904c47",
   "metadata": {
    "scrolled": true
   },
   "outputs": [
    {
     "name": "stdout",
     "output_type": "stream",
     "text": [
      "Average by columns:\n",
      "\n",
      " CGST     5248.231559\n",
      "SGST     5248.231559\n",
      "IGST    48645.866305\n",
      "CESS       86.259339\n",
      "dtype: float64\n"
     ]
    }
   ],
   "source": [
    "#Find the average for all taxable value and all transactions\n",
    "Tax_Values_Average = Tax_Values.mean()\n",
    "print(\"Average by columns:\\n\\n\",Tax_Values_Average)"
   ]
  },
  {
   "cell_type": "code",
   "execution_count": 25,
   "id": "898715ab",
   "metadata": {
    "scrolled": false
   },
   "outputs": [
    {
     "data": {
      "image/png": "[encoded data removed]",
      "text/plain": [
       "<Figure size 432x288 with 1 Axes>"
      ]
     },
     "metadata": {
      "needs_background": "light"
     },
     "output_type": "display_data"
    }
   ],
   "source": [
    "#plot for average of all taxable value and all transactions.\n",
    "Tax_Values.mean().plot(kind='bar');"
   ]
  },
  {
   "cell_type": "code",
   "execution_count": 26,
   "id": "00084ad0",
   "metadata": {},
   "outputs": [
    {
     "name": "stdout",
     "output_type": "stream",
     "text": [
      "Overall Taxable Values Average is\n",
      " 14807\n"
     ]
    }
   ],
   "source": [
    "#Overall taxable value average.\n",
    "tva=Tax_Values_Average.mean()\n",
    "tvar = round(tva)\n",
    "print(\"Overall Taxable Values Average is\\n\",tvar)"
   ]
  },
  {
   "cell_type": "markdown",
   "id": "4f137bd3",
   "metadata": {},
   "source": [
    "# ○ What is the total tax collection for the filing period?"
   ]
  },
  {
   "cell_type": "code",
   "execution_count": 27,
   "id": "0b25d71c",
   "metadata": {},
   "outputs": [
    {
     "name": "stdout",
     "output_type": "stream",
     "text": [
      "0     12018.0\n",
      "1     12018.0\n",
      "2     12018.0\n",
      "3     12018.0\n",
      "4     12018.0\n",
      "5     12018.0\n",
      "6     12018.0\n",
      "7     12018.0\n",
      "8     12018.0\n",
      "9     12018.0\n",
      "10    12018.0\n",
      "11    12018.0\n",
      "12    12018.0\n",
      "13    12018.0\n",
      "14    12018.0\n",
      "15    12018.0\n",
      "16    12018.0\n",
      "17    12018.0\n",
      "18    12018.0\n",
      "19    12018.0\n",
      "Name: FILING_PERIOD, dtype: float64\n"
     ]
    }
   ],
   "source": [
    "# In this FILING_PERIOD column na values are fill with before date values using with fillna() function and bfill method.\n",
    "\n",
    "tf = d2[\"FILING_PERIOD\"]\n",
    "tf = tf.fillna(method='bfill',limit=15)\n",
    "print(tf.head(20))"
   ]
  },
  {
   "cell_type": "code",
   "execution_count": 28,
   "id": "0e52ccdd",
   "metadata": {
    "scrolled": false
   },
   "outputs": [
    {
     "data": {
      "text/html": [
       "<div>\n",
       "<style scoped>\n",
       "    .dataframe tbody tr th:only-of-type {\n",
       "        vertical-align: middle;\n",
       "    }\n",
       "\n",
       "    .dataframe tbody tr th {\n",
       "        vertical-align: top;\n",
       "    }\n",
       "\n",
       "    .dataframe thead th {\n",
       "        text-align: right;\n",
       "    }\n",
       "</style>\n",
       "<table border=\"1\" class=\"dataframe\">\n",
       "  <thead>\n",
       "    <tr style=\"text-align: right;\">\n",
       "      <th></th>\n",
       "      <th>FILING_PERIOD</th>\n",
       "      <th>CGST</th>\n",
       "      <th>SGST</th>\n",
       "      <th>IGST</th>\n",
       "      <th>CESS</th>\n",
       "    </tr>\n",
       "  </thead>\n",
       "  <tbody>\n",
       "    <tr>\n",
       "      <th>0</th>\n",
       "      <td>12018.0</td>\n",
       "      <td>0.00</td>\n",
       "      <td>0.00</td>\n",
       "      <td>312221.66</td>\n",
       "      <td>0.0</td>\n",
       "    </tr>\n",
       "    <tr>\n",
       "      <th>1</th>\n",
       "      <td>12018.0</td>\n",
       "      <td>0.00</td>\n",
       "      <td>0.00</td>\n",
       "      <td>165004.05</td>\n",
       "      <td>0.0</td>\n",
       "    </tr>\n",
       "    <tr>\n",
       "      <th>2</th>\n",
       "      <td>12018.0</td>\n",
       "      <td>0.00</td>\n",
       "      <td>0.00</td>\n",
       "      <td>2072.90</td>\n",
       "      <td>5796.0</td>\n",
       "    </tr>\n",
       "    <tr>\n",
       "      <th>3</th>\n",
       "      <td>12018.0</td>\n",
       "      <td>5582.28</td>\n",
       "      <td>5582.28</td>\n",
       "      <td>0.00</td>\n",
       "      <td>0.0</td>\n",
       "    </tr>\n",
       "    <tr>\n",
       "      <th>4</th>\n",
       "      <td>12018.0</td>\n",
       "      <td>0.00</td>\n",
       "      <td>0.00</td>\n",
       "      <td>0.00</td>\n",
       "      <td>0.0</td>\n",
       "    </tr>\n",
       "    <tr>\n",
       "      <th>...</th>\n",
       "      <td>...</td>\n",
       "      <td>...</td>\n",
       "      <td>...</td>\n",
       "      <td>...</td>\n",
       "      <td>...</td>\n",
       "    </tr>\n",
       "    <tr>\n",
       "      <th>95</th>\n",
       "      <td>12018.0</td>\n",
       "      <td>0.00</td>\n",
       "      <td>0.00</td>\n",
       "      <td>9060.48</td>\n",
       "      <td>0.0</td>\n",
       "    </tr>\n",
       "    <tr>\n",
       "      <th>96</th>\n",
       "      <td>12018.0</td>\n",
       "      <td>0.00</td>\n",
       "      <td>0.00</td>\n",
       "      <td>900.00</td>\n",
       "      <td>0.0</td>\n",
       "    </tr>\n",
       "    <tr>\n",
       "      <th>97</th>\n",
       "      <td>12018.0</td>\n",
       "      <td>281.25</td>\n",
       "      <td>281.25</td>\n",
       "      <td>0.00</td>\n",
       "      <td>0.0</td>\n",
       "    </tr>\n",
       "    <tr>\n",
       "      <th>98</th>\n",
       "      <td>12018.0</td>\n",
       "      <td>0.00</td>\n",
       "      <td>0.00</td>\n",
       "      <td>34616.45</td>\n",
       "      <td>0.0</td>\n",
       "    </tr>\n",
       "    <tr>\n",
       "      <th>99</th>\n",
       "      <td>12018.0</td>\n",
       "      <td>0.00</td>\n",
       "      <td>0.00</td>\n",
       "      <td>24073.20</td>\n",
       "      <td>0.0</td>\n",
       "    </tr>\n",
       "  </tbody>\n",
       "</table>\n",
       "<p>100 rows × 5 columns</p>\n",
       "</div>"
      ],
      "text/plain": [
       "    FILING_PERIOD     CGST     SGST       IGST    CESS\n",
       "0         12018.0     0.00     0.00  312221.66     0.0\n",
       "1         12018.0     0.00     0.00  165004.05     0.0\n",
       "2         12018.0     0.00     0.00    2072.90  5796.0\n",
       "3         12018.0  5582.28  5582.28       0.00     0.0\n",
       "4         12018.0     0.00     0.00       0.00     0.0\n",
       "..            ...      ...      ...        ...     ...\n",
       "95        12018.0     0.00     0.00    9060.48     0.0\n",
       "96        12018.0     0.00     0.00     900.00     0.0\n",
       "97        12018.0   281.25   281.25       0.00     0.0\n",
       "98        12018.0     0.00     0.00   34616.45     0.0\n",
       "99        12018.0     0.00     0.00   24073.20     0.0\n",
       "\n",
       "[100 rows x 5 columns]"
      ]
     },
     "metadata": {},
     "output_type": "display_data"
    }
   ],
   "source": [
    "#Create a variable for Total tax collection.\n",
    "Total_Tax_Collection = pd.concat([tf, Tax_Values], axis=1, join='inner')\n",
    "display(Total_Tax_Collection.head(100))"
   ]
  },
  {
   "cell_type": "code",
   "execution_count": 29,
   "id": "02327336",
   "metadata": {},
   "outputs": [
    {
     "data": {
      "text/plain": [
       "array([12018.])"
      ]
     },
     "execution_count": 29,
     "metadata": {},
     "output_type": "execute_result"
    }
   ],
   "source": [
    "#Check unique filing period\n",
    "Total_Tax_Collection.FILING_PERIOD.unique()"
   ]
  },
  {
   "cell_type": "code",
   "execution_count": 30,
   "id": "564ad787",
   "metadata": {},
   "outputs": [],
   "source": [
    "#Sum of all tax columns seperately.\n",
    "CGST = Total_Tax_Collection.CGST.sum(axis = 0)\n",
    "CGST = round(CGST)\n",
    "SGST = Total_Tax_Collection.SGST.sum(axis = 0)\n",
    "SGST = round(SGST)\n",
    "IGST = Total_Tax_Collection.IGST.sum(axis = 0)\n",
    "IGST = round(IGST)\n",
    "CESS = Total_Tax_Collection.CESS.sum(axis = 0)\n",
    "CESS = round(CESS)"
   ]
  },
  {
   "cell_type": "code",
   "execution_count": 31,
   "id": "48c12a53",
   "metadata": {},
   "outputs": [
    {
     "name": "stdout",
     "output_type": "stream",
     "text": [
      "Total of CGST Collection is: 16432213\n",
      "\n",
      "Total of SGST Collection is: 16432213\n",
      "\n",
      "Total of IGST Collection is: 152310207\n",
      "\n",
      "Total of CESS Collection is: 270078\n"
     ]
    }
   ],
   "source": [
    "#Print the total of all tax collections Seperately.\n",
    "print(\"Total of CGST Collection is:\",CGST)\n",
    "print(\"\\nTotal of SGST Collection is:\",SGST)\n",
    "print(\"\\nTotal of IGST Collection is:\",IGST)\n",
    "print(\"\\nTotal of CESS Collection is:\",CESS)"
   ]
  },
  {
   "cell_type": "code",
   "execution_count": 32,
   "id": "720a8c38",
   "metadata": {},
   "outputs": [
    {
     "name": "stdout",
     "output_type": "stream",
     "text": [
      "The Total tax collection for the filing period Jan-2018 is: 185444711\n"
     ]
    }
   ],
   "source": [
    "#Total tax collection for filing period in jan-2018.\n",
    "Total = CGST + SGST + IGST + CESS\n",
    "print(\"The Total tax collection for the filing period Jan-2018 is:\",Total)"
   ]
  },
  {
   "cell_type": "markdown",
   "id": "43fc64c9",
   "metadata": {},
   "source": [
    "# ○ Export this table as a csv file and share it with your output."
   ]
  },
  {
   "cell_type": "code",
   "execution_count": 33,
   "id": "92167cb9",
   "metadata": {},
   "outputs": [],
   "source": [
    "#df.to_csv('file1.csv')"
   ]
  },
  {
   "cell_type": "markdown",
   "id": "73081a9f",
   "metadata": {},
   "source": [
    "# ○ Which firm has reported the maximum amount in sales? What is the turnover for this firm?"
   ]
  },
  {
   "cell_type": "code",
   "execution_count": 34,
   "id": "f0832f8f",
   "metadata": {},
   "outputs": [
    {
     "data": {
      "text/html": [
       "<div>\n",
       "<style scoped>\n",
       "    .dataframe tbody tr th:only-of-type {\n",
       "        vertical-align: middle;\n",
       "    }\n",
       "\n",
       "    .dataframe tbody tr th {\n",
       "        vertical-align: top;\n",
       "    }\n",
       "\n",
       "    .dataframe thead th {\n",
       "        text-align: right;\n",
       "    }\n",
       "</style>\n",
       "<table border=\"1\" class=\"dataframe\">\n",
       "  <thead>\n",
       "    <tr style=\"text-align: right;\">\n",
       "      <th></th>\n",
       "      <th>TAXABLE_AMOUNT</th>\n",
       "      <th>CGST</th>\n",
       "      <th>SGST</th>\n",
       "      <th>IGST</th>\n",
       "      <th>CESS</th>\n",
       "    </tr>\n",
       "  </thead>\n",
       "  <tbody>\n",
       "    <tr>\n",
       "      <th>0</th>\n",
       "      <td>2601847.17</td>\n",
       "      <td>0.00</td>\n",
       "      <td>0.00</td>\n",
       "      <td>312221.66</td>\n",
       "      <td>0.0</td>\n",
       "    </tr>\n",
       "    <tr>\n",
       "      <th>1</th>\n",
       "      <td>916689.15</td>\n",
       "      <td>0.00</td>\n",
       "      <td>0.00</td>\n",
       "      <td>165004.05</td>\n",
       "      <td>0.0</td>\n",
       "    </tr>\n",
       "    <tr>\n",
       "      <th>2</th>\n",
       "      <td>41457.97</td>\n",
       "      <td>0.00</td>\n",
       "      <td>0.00</td>\n",
       "      <td>2072.90</td>\n",
       "      <td>5796.0</td>\n",
       "    </tr>\n",
       "    <tr>\n",
       "      <th>3</th>\n",
       "      <td>39873.45</td>\n",
       "      <td>5582.28</td>\n",
       "      <td>5582.28</td>\n",
       "      <td>0.00</td>\n",
       "      <td>0.0</td>\n",
       "    </tr>\n",
       "    <tr>\n",
       "      <th>4</th>\n",
       "      <td>771169.00</td>\n",
       "      <td>0.00</td>\n",
       "      <td>0.00</td>\n",
       "      <td>0.00</td>\n",
       "      <td>0.0</td>\n",
       "    </tr>\n",
       "    <tr>\n",
       "      <th>...</th>\n",
       "      <td>...</td>\n",
       "      <td>...</td>\n",
       "      <td>...</td>\n",
       "      <td>...</td>\n",
       "      <td>...</td>\n",
       "    </tr>\n",
       "    <tr>\n",
       "      <th>3126</th>\n",
       "      <td>80000.00</td>\n",
       "      <td>0.00</td>\n",
       "      <td>0.00</td>\n",
       "      <td>14400.00</td>\n",
       "      <td>0.0</td>\n",
       "    </tr>\n",
       "    <tr>\n",
       "      <th>3127</th>\n",
       "      <td>26349.63</td>\n",
       "      <td>0.00</td>\n",
       "      <td>0.00</td>\n",
       "      <td>7377.90</td>\n",
       "      <td>0.0</td>\n",
       "    </tr>\n",
       "    <tr>\n",
       "      <th>3128</th>\n",
       "      <td>12000.00</td>\n",
       "      <td>1080.00</td>\n",
       "      <td>1080.00</td>\n",
       "      <td>0.00</td>\n",
       "      <td>0.0</td>\n",
       "    </tr>\n",
       "    <tr>\n",
       "      <th>3129</th>\n",
       "      <td>95687.80</td>\n",
       "      <td>0.00</td>\n",
       "      <td>0.00</td>\n",
       "      <td>17223.80</td>\n",
       "      <td>0.0</td>\n",
       "    </tr>\n",
       "    <tr>\n",
       "      <th>3130</th>\n",
       "      <td>1962069.00</td>\n",
       "      <td>49051.73</td>\n",
       "      <td>49051.73</td>\n",
       "      <td>0.00</td>\n",
       "      <td>0.0</td>\n",
       "    </tr>\n",
       "  </tbody>\n",
       "</table>\n",
       "<p>3131 rows × 5 columns</p>\n",
       "</div>"
      ],
      "text/plain": [
       "      TAXABLE_AMOUNT      CGST      SGST       IGST    CESS\n",
       "0         2601847.17      0.00      0.00  312221.66     0.0\n",
       "1          916689.15      0.00      0.00  165004.05     0.0\n",
       "2           41457.97      0.00      0.00    2072.90  5796.0\n",
       "3           39873.45   5582.28   5582.28       0.00     0.0\n",
       "4          771169.00      0.00      0.00       0.00     0.0\n",
       "...              ...       ...       ...        ...     ...\n",
       "3126        80000.00      0.00      0.00   14400.00     0.0\n",
       "3127        26349.63      0.00      0.00    7377.90     0.0\n",
       "3128        12000.00   1080.00   1080.00       0.00     0.0\n",
       "3129        95687.80      0.00      0.00   17223.80     0.0\n",
       "3130      1962069.00  49051.73  49051.73       0.00     0.0\n",
       "\n",
       "[3131 rows x 5 columns]"
      ]
     },
     "metadata": {},
     "output_type": "display_data"
    }
   ],
   "source": [
    "#Create a Variable for taxable amount and tax's\n",
    "maxi = df[[\"TAXABLE_AMOUNT\",\"CGST\",\"SGST\",\"IGST\",\"CESS\"]]\n",
    "display(maxi)"
   ]
  },
  {
   "cell_type": "code",
   "execution_count": 35,
   "id": "868d03c7",
   "metadata": {
    "scrolled": false
   },
   "outputs": [
    {
     "data": {
      "text/html": [
       "<div>\n",
       "<style scoped>\n",
       "    .dataframe tbody tr th:only-of-type {\n",
       "        vertical-align: middle;\n",
       "    }\n",
       "\n",
       "    .dataframe tbody tr th {\n",
       "        vertical-align: top;\n",
       "    }\n",
       "\n",
       "    .dataframe thead th {\n",
       "        text-align: right;\n",
       "    }\n",
       "</style>\n",
       "<table border=\"1\" class=\"dataframe\">\n",
       "  <thead>\n",
       "    <tr style=\"text-align: right;\">\n",
       "      <th></th>\n",
       "      <th>TAXABLE_AMOUNT</th>\n",
       "      <th>CGST</th>\n",
       "      <th>SGST</th>\n",
       "      <th>IGST</th>\n",
       "      <th>CESS</th>\n",
       "      <th>TURNOVER</th>\n",
       "    </tr>\n",
       "  </thead>\n",
       "  <tbody>\n",
       "    <tr>\n",
       "      <th>0</th>\n",
       "      <td>2601847.0</td>\n",
       "      <td>0.0</td>\n",
       "      <td>0.0</td>\n",
       "      <td>312222.0</td>\n",
       "      <td>0.0</td>\n",
       "      <td>312222.0</td>\n",
       "    </tr>\n",
       "    <tr>\n",
       "      <th>1</th>\n",
       "      <td>916689.0</td>\n",
       "      <td>0.0</td>\n",
       "      <td>0.0</td>\n",
       "      <td>165004.0</td>\n",
       "      <td>0.0</td>\n",
       "      <td>165004.0</td>\n",
       "    </tr>\n",
       "    <tr>\n",
       "      <th>2</th>\n",
       "      <td>41458.0</td>\n",
       "      <td>0.0</td>\n",
       "      <td>0.0</td>\n",
       "      <td>2073.0</td>\n",
       "      <td>5796.0</td>\n",
       "      <td>7869.0</td>\n",
       "    </tr>\n",
       "    <tr>\n",
       "      <th>3</th>\n",
       "      <td>39873.0</td>\n",
       "      <td>5582.0</td>\n",
       "      <td>5582.0</td>\n",
       "      <td>0.0</td>\n",
       "      <td>0.0</td>\n",
       "      <td>11165.0</td>\n",
       "    </tr>\n",
       "    <tr>\n",
       "      <th>4</th>\n",
       "      <td>771169.0</td>\n",
       "      <td>0.0</td>\n",
       "      <td>0.0</td>\n",
       "      <td>0.0</td>\n",
       "      <td>0.0</td>\n",
       "      <td>0.0</td>\n",
       "    </tr>\n",
       "    <tr>\n",
       "      <th>...</th>\n",
       "      <td>...</td>\n",
       "      <td>...</td>\n",
       "      <td>...</td>\n",
       "      <td>...</td>\n",
       "      <td>...</td>\n",
       "      <td>...</td>\n",
       "    </tr>\n",
       "    <tr>\n",
       "      <th>3126</th>\n",
       "      <td>80000.0</td>\n",
       "      <td>0.0</td>\n",
       "      <td>0.0</td>\n",
       "      <td>14400.0</td>\n",
       "      <td>0.0</td>\n",
       "      <td>14400.0</td>\n",
       "    </tr>\n",
       "    <tr>\n",
       "      <th>3127</th>\n",
       "      <td>26350.0</td>\n",
       "      <td>0.0</td>\n",
       "      <td>0.0</td>\n",
       "      <td>7378.0</td>\n",
       "      <td>0.0</td>\n",
       "      <td>7378.0</td>\n",
       "    </tr>\n",
       "    <tr>\n",
       "      <th>3128</th>\n",
       "      <td>12000.0</td>\n",
       "      <td>1080.0</td>\n",
       "      <td>1080.0</td>\n",
       "      <td>0.0</td>\n",
       "      <td>0.0</td>\n",
       "      <td>2160.0</td>\n",
       "    </tr>\n",
       "    <tr>\n",
       "      <th>3129</th>\n",
       "      <td>95688.0</td>\n",
       "      <td>0.0</td>\n",
       "      <td>0.0</td>\n",
       "      <td>17224.0</td>\n",
       "      <td>0.0</td>\n",
       "      <td>17224.0</td>\n",
       "    </tr>\n",
       "    <tr>\n",
       "      <th>3130</th>\n",
       "      <td>1962069.0</td>\n",
       "      <td>49052.0</td>\n",
       "      <td>49052.0</td>\n",
       "      <td>0.0</td>\n",
       "      <td>0.0</td>\n",
       "      <td>98103.0</td>\n",
       "    </tr>\n",
       "  </tbody>\n",
       "</table>\n",
       "<p>3131 rows × 6 columns</p>\n",
       "</div>"
      ],
      "text/plain": [
       "      TAXABLE_AMOUNT     CGST     SGST      IGST    CESS  TURNOVER\n",
       "0          2601847.0      0.0      0.0  312222.0     0.0  312222.0\n",
       "1           916689.0      0.0      0.0  165004.0     0.0  165004.0\n",
       "2            41458.0      0.0      0.0    2073.0  5796.0    7869.0\n",
       "3            39873.0   5582.0   5582.0       0.0     0.0   11165.0\n",
       "4           771169.0      0.0      0.0       0.0     0.0       0.0\n",
       "...              ...      ...      ...       ...     ...       ...\n",
       "3126         80000.0      0.0      0.0   14400.0     0.0   14400.0\n",
       "3127         26350.0      0.0      0.0    7378.0     0.0    7378.0\n",
       "3128         12000.0   1080.0   1080.0       0.0     0.0    2160.0\n",
       "3129         95688.0      0.0      0.0   17224.0     0.0   17224.0\n",
       "3130       1962069.0  49052.0  49052.0       0.0     0.0   98103.0\n",
       "\n",
       "[3131 rows x 6 columns]"
      ]
     },
     "execution_count": 35,
     "metadata": {},
     "output_type": "execute_result"
    }
   ],
   "source": [
    "#Add all tax colunms seperately and output should filed with new column \"TURNOVER\"\n",
    "maxi_amount = maxi.assign(TURNOVER = maxi[\"CGST\"] + maxi[\"SGST\"] + maxi[\"IGST\"] + maxi[\"CESS\"])\n",
    "maxi_amount=round(maxi_amount)\n",
    "maxi_amount"
   ]
  },
  {
   "cell_type": "code",
   "execution_count": 36,
   "id": "45331e0c",
   "metadata": {
    "scrolled": false
   },
   "outputs": [
    {
     "data": {
      "text/html": [
       "<div>\n",
       "<style scoped>\n",
       "    .dataframe tbody tr th:only-of-type {\n",
       "        vertical-align: middle;\n",
       "    }\n",
       "\n",
       "    .dataframe tbody tr th {\n",
       "        vertical-align: top;\n",
       "    }\n",
       "\n",
       "    .dataframe thead th {\n",
       "        text-align: right;\n",
       "    }\n",
       "</style>\n",
       "<table border=\"1\" class=\"dataframe\">\n",
       "  <thead>\n",
       "    <tr style=\"text-align: right;\">\n",
       "      <th></th>\n",
       "      <th>GSTIN</th>\n",
       "      <th>TAXABLE_AMOUNT</th>\n",
       "      <th>TURNOVER</th>\n",
       "    </tr>\n",
       "  </thead>\n",
       "  <tbody>\n",
       "    <tr>\n",
       "      <th>0</th>\n",
       "      <td>0010215452</td>\n",
       "      <td>2601847.0</td>\n",
       "      <td>312222.0</td>\n",
       "    </tr>\n",
       "    <tr>\n",
       "      <th>1</th>\n",
       "      <td>0038162EB9</td>\n",
       "      <td>916689.0</td>\n",
       "      <td>165004.0</td>\n",
       "    </tr>\n",
       "    <tr>\n",
       "      <th>2</th>\n",
       "      <td>004F894AEC</td>\n",
       "      <td>41458.0</td>\n",
       "      <td>7869.0</td>\n",
       "    </tr>\n",
       "    <tr>\n",
       "      <th>3</th>\n",
       "      <td>005A8D5BC6</td>\n",
       "      <td>39873.0</td>\n",
       "      <td>11165.0</td>\n",
       "    </tr>\n",
       "    <tr>\n",
       "      <th>4</th>\n",
       "      <td>007011E20F</td>\n",
       "      <td>771169.0</td>\n",
       "      <td>0.0</td>\n",
       "    </tr>\n",
       "    <tr>\n",
       "      <th>...</th>\n",
       "      <td>...</td>\n",
       "      <td>...</td>\n",
       "      <td>...</td>\n",
       "    </tr>\n",
       "    <tr>\n",
       "      <th>95</th>\n",
       "      <td>07DF9A0FE8</td>\n",
       "      <td>75504.0</td>\n",
       "      <td>9060.0</td>\n",
       "    </tr>\n",
       "    <tr>\n",
       "      <th>96</th>\n",
       "      <td>07EE2915A6</td>\n",
       "      <td>5000.0</td>\n",
       "      <td>900.0</td>\n",
       "    </tr>\n",
       "    <tr>\n",
       "      <th>97</th>\n",
       "      <td>080ED1ADC2</td>\n",
       "      <td>3125.0</td>\n",
       "      <td>562.0</td>\n",
       "    </tr>\n",
       "    <tr>\n",
       "      <th>98</th>\n",
       "      <td>083B47E7EF</td>\n",
       "      <td>123630.0</td>\n",
       "      <td>34616.0</td>\n",
       "    </tr>\n",
       "    <tr>\n",
       "      <th>99</th>\n",
       "      <td>084403FECE</td>\n",
       "      <td>133740.0</td>\n",
       "      <td>24073.0</td>\n",
       "    </tr>\n",
       "  </tbody>\n",
       "</table>\n",
       "<p>100 rows × 3 columns</p>\n",
       "</div>"
      ],
      "text/plain": [
       "         GSTIN  TAXABLE_AMOUNT  TURNOVER\n",
       "0   0010215452       2601847.0  312222.0\n",
       "1   0038162EB9        916689.0  165004.0\n",
       "2   004F894AEC         41458.0    7869.0\n",
       "3   005A8D5BC6         39873.0   11165.0\n",
       "4   007011E20F        771169.0       0.0\n",
       "..         ...             ...       ...\n",
       "95  07DF9A0FE8         75504.0    9060.0\n",
       "96  07EE2915A6          5000.0     900.0\n",
       "97  080ED1ADC2          3125.0     562.0\n",
       "98  083B47E7EF        123630.0   34616.0\n",
       "99  084403FECE        133740.0   24073.0\n",
       "\n",
       "[100 rows x 3 columns]"
      ]
     },
     "metadata": {},
     "output_type": "display_data"
    }
   ],
   "source": [
    "#Create a Variable for Taxable amount and turnover.\n",
    "maxi_firm = pd.concat([df[\"GSTIN\"],maxi_amount[[\"TAXABLE_AMOUNT\",\"TURNOVER\"]]], axis=1, join='inner')\n",
    "display(maxi_firm.head(100))"
   ]
  },
  {
   "cell_type": "code",
   "execution_count": 37,
   "id": "2aa7b886",
   "metadata": {},
   "outputs": [
    {
     "data": {
      "text/plain": [
       "35459156.0"
      ]
     },
     "execution_count": 37,
     "metadata": {},
     "output_type": "execute_result"
    }
   ],
   "source": [
    "#Total Taxable amount value\n",
    "maxi_amount = maxi_firm[\"TAXABLE_AMOUNT\"].max()\n",
    "maxi_amount"
   ]
  },
  {
   "cell_type": "code",
   "execution_count": 45,
   "id": "1315c4c4",
   "metadata": {},
   "outputs": [
    {
     "data": {
      "text/plain": [
       "[540]"
      ]
     },
     "execution_count": 45,
     "metadata": {},
     "output_type": "execute_result"
    }
   ],
   "source": [
    "#maximum taxable amount index\n",
    "maxi_firm.index[maxi_firm[\"TAXABLE_AMOUNT\"]==35459156.0].tolist()"
   ]
  },
  {
   "cell_type": "code",
   "execution_count": 39,
   "id": "af6e498e",
   "metadata": {
    "scrolled": true
   },
   "outputs": [
    {
     "data": {
      "text/plain": [
       "'The Firm of Maximum amount in sale and Turnover is'"
      ]
     },
     "metadata": {},
     "output_type": "display_data"
    },
    {
     "data": {
      "text/html": [
       "<div>\n",
       "<style scoped>\n",
       "    .dataframe tbody tr th:only-of-type {\n",
       "        vertical-align: middle;\n",
       "    }\n",
       "\n",
       "    .dataframe tbody tr th {\n",
       "        vertical-align: top;\n",
       "    }\n",
       "\n",
       "    .dataframe thead th {\n",
       "        text-align: right;\n",
       "    }\n",
       "</style>\n",
       "<table border=\"1\" class=\"dataframe\">\n",
       "  <thead>\n",
       "    <tr style=\"text-align: right;\">\n",
       "      <th></th>\n",
       "      <th>GSTIN</th>\n",
       "      <th>TAXABLE_AMOUNT</th>\n",
       "      <th>TURNOVER</th>\n",
       "    </tr>\n",
       "  </thead>\n",
       "  <tbody>\n",
       "    <tr>\n",
       "      <th>540</th>\n",
       "      <td>2C55402F83</td>\n",
       "      <td>35459156.0</td>\n",
       "      <td>6382648.0</td>\n",
       "    </tr>\n",
       "  </tbody>\n",
       "</table>\n",
       "</div>"
      ],
      "text/plain": [
       "          GSTIN  TAXABLE_AMOUNT   TURNOVER\n",
       "540  2C55402F83      35459156.0  6382648.0"
      ]
     },
     "metadata": {},
     "output_type": "display_data"
    }
   ],
   "source": [
    "#maximum taxable amount firm details\n",
    "display(\"The Firm of Maximum amount in sale and Turnover is\",maxi_firm.iloc[[540]])"
   ]
  },
  {
   "cell_type": "markdown",
   "id": "11096ac0",
   "metadata": {},
   "source": [
    "# ○ What is the average number of unique trading partners for a firm?"
   ]
  },
  {
   "cell_type": "code",
   "execution_count": 40,
   "id": "cc0b3a7c",
   "metadata": {
    "scrolled": true
   },
   "outputs": [
    {
     "name": "stdout",
     "output_type": "stream",
     "text": [
      "The unique trading partners of firms are:  3108\n"
     ]
    }
   ],
   "source": [
    "#uniquw trading partners\n",
    "print(\"The unique trading partners of firms are: \",maxi_firm[\"GSTIN\"].nunique())"
   ]
  },
  {
   "cell_type": "markdown",
   "id": "f64e033c",
   "metadata": {},
   "source": [
    "# ○ How many firms have not paid any taxes?"
   ]
  },
  {
   "cell_type": "code",
   "execution_count": 41,
   "id": "9659b798",
   "metadata": {},
   "outputs": [
    {
     "name": "stdout",
     "output_type": "stream",
     "text": [
      "The Total Number Of firms, Who have not paid any taxes is:  120\n"
     ]
    }
   ],
   "source": [
    "#total number of firms for not paid any taxes.\n",
    "def condition(x):\n",
    "    return x==0\n",
    "\n",
    "lst = maxi_firm[\"TURNOVER\"]\n",
    "print(\"The Total Number Of firms, Who have not paid any taxes is: \",sum(condition(x) for x in lst))\n"
   ]
  },
  {
   "cell_type": "markdown",
   "id": "63d242a3",
   "metadata": {},
   "source": [
    "# Section 2 - Data visualization\n",
    "\n",
    "## 6. Visualization: Create 3 simple clearly-labeled separate graphs to compare\n",
    "    \n",
    "    business activity of legitimate and bogus firms using turnover and any 2 other variables created in Q6. Points will be provided for clarity, labeling and explainability of the graphs."
   ]
  },
  {
   "cell_type": "code",
   "execution_count": 42,
   "id": "2678db32",
   "metadata": {},
   "outputs": [
    {
     "name": "stdout",
     "output_type": "stream",
     "text": [
      "Fraud Cases :305\n",
      "Valid Transactions:2826\n"
     ]
    }
   ],
   "source": [
    "#Total no of fraud and valid transaction.\n",
    "print('Fraud Cases :{}'.format(len(df[df['IsBogus'] == 1])))\n",
    "print('Valid Transactions:{}'.format(len(df[df['IsBogus'] == 0])))"
   ]
  },
  {
   "cell_type": "code",
   "execution_count": 43,
   "id": "399a0d9f",
   "metadata": {
    "scrolled": false
   },
   "outputs": [
    {
     "data": {
      "image/png": "[encoded data removed]",
      "text/plain": [
       "<Figure size 1440x1440 with 1 Axes>"
      ]
     },
     "metadata": {
      "needs_background": "light"
     },
     "output_type": "display_data"
    }
   ],
   "source": [
    "#plot for fraud and valid transaction\n",
    "df.hist(column=\"IsBogus\",figsize=(20,20))\n",
    "plt.xlabel('Fraud and Valid Transaction')\n",
    "plt.ylabel('Total Count of Fraud and Valid Transaction')\n",
    "plt.show()"
   ]
  },
  {
   "cell_type": "code",
   "execution_count": null,
   "id": "c69f86c1",
   "metadata": {},
   "outputs": [],
   "source": []
  }
 ],
 "metadata": {
  "kernelspec": {
   "display_name": "Python 3 (ipykernel)",
   "language": "python",
   "name": "python3"
  },
  "language_info": {
   "codemirror_mode": {
    "name": "ipython",
    "version": 3
   },
   "file_extension": ".py",
   "mimetype": "text/x-python",
   "name": "python",
   "nbconvert_exporter": "python",
   "pygments_lexer": "ipython3",
   "version": "3.9.13"
  }
 },
 "nbformat": 4,
 "nbformat_minor": 5
}
